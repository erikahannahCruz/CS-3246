{
  "cells": [
    {
      "cell_type": "markdown",
      "metadata": {
        "id": "nrxbKKJZtPzj"
      },
      "source": [
        "# **Activity 2: Python-Pandas Exercise**\n",
        "\n",
        "Objectives:\n",
        "- Understand Python syntax (variables, loops, functions).\n",
        "- Learn Pandas basics (Series, DataFrames, reading files).\n",
        "- Perform data cleaning (handling missing values, correcting formats, removing duplicates).\n",
        "- Apply concepts in a real-world case study."
      ]
    },
    {
      "cell_type": "markdown",
      "metadata": {
        "id": "FNQbxlCPtvXZ"
      },
      "source": [
        "# Part 1: Hands-on Python & Pandas Basics"
      ]
    },
    {
      "cell_type": "markdown",
      "metadata": {
        "id": "vH2WqeaY38NC"
      },
      "source": [
        "1. Install the Pandas library in your environment."
      ]
    },
    {
      "cell_type": "code",
      "execution_count": 2,
      "metadata": {
        "id": "GPhWF_2u5Qxy"
      },
      "outputs": [
        {
          "name": "stdout",
          "output_type": "stream",
          "text": [
            "Defaulting to user installation because normal site-packages is not writeable\n",
            "Requirement already satisfied: pandas in /Users/ivanjamesa.lo/Library/Python/3.9/lib/python/site-packages (2.2.3)\n",
            "Requirement already satisfied: numpy>=1.22.4 in /Users/ivanjamesa.lo/Library/Python/3.9/lib/python/site-packages (from pandas) (2.0.2)\n",
            "Requirement already satisfied: python-dateutil>=2.8.2 in /Users/ivanjamesa.lo/Library/Python/3.9/lib/python/site-packages (from pandas) (2.9.0.post0)\n",
            "Requirement already satisfied: pytz>=2020.1 in /Users/ivanjamesa.lo/Library/Python/3.9/lib/python/site-packages (from pandas) (2024.2)\n",
            "Requirement already satisfied: tzdata>=2022.7 in /Users/ivanjamesa.lo/Library/Python/3.9/lib/python/site-packages (from pandas) (2025.1)\n",
            "Requirement already satisfied: six>=1.5 in /Library/Developer/CommandLineTools/Library/Frameworks/Python3.framework/Versions/3.9/lib/python3.9/site-packages (from python-dateutil>=2.8.2->pandas) (1.15.0)\n",
            "\n",
            "\u001b[1m[\u001b[0m\u001b[34;49mnotice\u001b[0m\u001b[1;39;49m]\u001b[0m\u001b[39;49m A new release of pip is available: \u001b[0m\u001b[31;49m25.0\u001b[0m\u001b[39;49m -> \u001b[0m\u001b[32;49m25.0.1\u001b[0m\n",
            "\u001b[1m[\u001b[0m\u001b[34;49mnotice\u001b[0m\u001b[1;39;49m]\u001b[0m\u001b[39;49m To update, run: \u001b[0m\u001b[32;49m/Library/Developer/CommandLineTools/usr/bin/python3 -m pip install --upgrade pip\u001b[0m\n",
            "Note: you may need to restart the kernel to use updated packages.\n"
          ]
        }
      ],
      "source": [
        "pip install pandas"
      ]
    },
    {
      "cell_type": "markdown",
      "metadata": {
        "id": "dZC17Lf1zT3Q"
      },
      "source": [
        "2. Import the  pandas package under the name `pd`"
      ]
    },
    {
      "cell_type": "code",
      "execution_count": 3,
      "metadata": {
        "id": "lR6fv9XE3Pw3"
      },
      "outputs": [],
      "source": [
        "import pandas as pd"
      ]
    },
    {
      "cell_type": "markdown",
      "metadata": {
        "id": "hO_MlGtx3Wj5"
      },
      "source": [
        "3. Print the pandas version"
      ]
    },
    {
      "cell_type": "code",
      "execution_count": 4,
      "metadata": {
        "id": "Y4lcL4Nb3SrJ"
      },
      "outputs": [
        {
          "name": "stdout",
          "output_type": "stream",
          "text": [
            "2.2.3\n"
          ]
        }
      ],
      "source": [
        "print(pd.__version__)"
      ]
    },
    {
      "cell_type": "markdown",
      "metadata": {
        "id": "QWJFiRZ03pwH"
      },
      "source": [
        "4. Create a variable `x` with the value 10 and a string variable `y` with \"Fortes in Fide!\""
      ]
    },
    {
      "cell_type": "code",
      "execution_count": 5,
      "metadata": {
        "id": "QCkALKg_3vig"
      },
      "outputs": [
        {
          "name": "stdout",
          "output_type": "stream",
          "text": [
            "    x                y\n",
            "0  10  Fortes in Fide!\n"
          ]
        }
      ],
      "source": [
        "data = {\"x\": [10], \"y\":[\"Fortes in Fide!\"]}\n",
        "\n",
        "df = pd.DataFrame(data)\n",
        "print(df)"
      ]
    },
    {
      "cell_type": "markdown",
      "metadata": {
        "id": "zBzRK3sY5Wfh"
      },
      "source": [
        "5. Define a list with numbers `[1, 2, 3, 4, 5]` and a dictionary with keys `name` and `age`"
      ]
    },
    {
      "cell_type": "code",
      "execution_count": 6,
      "metadata": {
        "id": "s8Zg7dgz5XPA"
      },
      "outputs": [
        {
          "name": "stdout",
          "output_type": "stream",
          "text": [
            "[1, 2, 3, 4, 5]\n",
            "       name  age\n",
            "0      Ivan   22\n",
            "1  Mary Vee   21\n",
            "2     Erika   21\n"
          ]
        }
      ],
      "source": [
        "num_list = [1, 2, 3, 4, 5]\n",
        "\n",
        "data = {\"name\": [\"Ivan\", \"Mary Vee\", \"Erika\"], \"age\": [22, 21, 21]}\n",
        "\n",
        "df = pd.DataFrame(data)\n",
        "print(num_list)\n",
        "print(df)"
      ]
    },
    {
      "cell_type": "markdown",
      "metadata": {
        "id": "gbsHcq7w5hE2"
      },
      "source": [
        "6. Write a function `greet(name)` that returns \"Magis, (name)\"!"
      ]
    },
    {
      "cell_type": "code",
      "execution_count": 7,
      "metadata": {
        "id": "LHKMev_a5mJX"
      },
      "outputs": [
        {
          "name": "stdout",
          "output_type": "stream",
          "text": [
            "Magis,  Mary Vee\n"
          ]
        }
      ],
      "source": [
        "def greet(name):\n",
        "    print(\"Magis, \", name)\n",
        "\n",
        "greet(\"Mary Vee\")"
      ]
    },
    {
      "cell_type": "markdown",
      "metadata": {
        "id": "d_UBbRZKYBFF"
      },
      "source": [
        "7. Write a Python function that takes a user’s name as input and prints a personalized greeting."
      ]
    },
    {
      "cell_type": "code",
      "execution_count": 8,
      "metadata": {
        "id": "-8T6ocVeYCnD"
      },
      "outputs": [
        {
          "name": "stdout",
          "output_type": "stream",
          "text": [
            "Erika, Praise be Jesus and Mary!\n"
          ]
        }
      ],
      "source": [
        "name = input(\"What is your name? \").strip()\n",
        "\n",
        "def greet2(name):\n",
        "    return f\"{name}, Praise be Jesus and Mary!\"\n",
        "\n",
        "print(greet2(name))"
      ]
    },
    {
      "cell_type": "markdown",
      "metadata": {
        "id": "0GEjHQ-PYRj2"
      },
      "source": [
        "8. Modify **Number 7** that if the user does not enter a name, it defaults to \"Guest\"."
      ]
    },
    {
      "cell_type": "code",
      "execution_count": 9,
      "metadata": {
        "id": "rYfMyyQeYbf6"
      },
      "outputs": [
        {
          "name": "stdout",
          "output_type": "stream",
          "text": [
            "Guest, Praise be Jesus and Mary!\n"
          ]
        }
      ],
      "source": [
        "name = input(\"Input Name\").strip()\n",
        "\n",
        "def greet2(name):\n",
        "    if len(name) != 0 :\n",
        "        return f\"{name}, Praise be Jesus and Mary!\"\n",
        "    else:\n",
        "        return f\"Guest, Praise be Jesus and Mary!\"\n",
        "\n",
        "print(greet2(name))"
      ]
    },
    {
      "cell_type": "markdown",
      "metadata": {
        "id": "OG-Ubf3259sb"
      },
      "source": [
        "9. Create a Pandas Series from `[10, 20, 30, 40]`."
      ]
    },
    {
      "cell_type": "code",
      "execution_count": 10,
      "metadata": {
        "id": "oGThKfqQ5-sj"
      },
      "outputs": [
        {
          "name": "stdout",
          "output_type": "stream",
          "text": [
            "0    10\n",
            "1    20\n",
            "2    30\n",
            "3    40\n",
            "dtype: int64\n"
          ]
        }
      ],
      "source": [
        "series = [10, 20, 30, 40]\n",
        "\n",
        "mySeries = pd.Series(series)\n",
        "\n",
        "print(mySeries)"
      ]
    },
    {
      "cell_type": "markdown",
      "metadata": {
        "id": "DeSr_ozS6Wc5"
      },
      "source": [
        "10.  Create a DataFrame with columns `A` and `B`."
      ]
    },
    {
      "cell_type": "code",
      "execution_count": 11,
      "metadata": {
        "id": "ytbYen7w6Mmv"
      },
      "outputs": [
        {
          "name": "stdout",
          "output_type": "stream",
          "text": [
            "    A  B\n",
            "0  10  5\n",
            "1  20  6\n",
            "2  30  7\n"
          ]
        }
      ],
      "source": [
        "data = {\n",
        "    \"A\" : [10,20,30],\n",
        "    \"B\" : [5,6,7]\n",
        "}\n",
        "\n",
        "df = pd.DataFrame(data)\n",
        "\n",
        "print(df)"
      ]
    },
    {
      "cell_type": "markdown",
      "metadata": {
        "id": "7mAive8s7kfU"
      },
      "source": [
        "# Part 2: Working with a Dataset 🛥️"
      ]
    },
    {
      "cell_type": "markdown",
      "metadata": {
        "id": "u6daMs_F8SPx"
      },
      "source": [
        "1. Load the Titanic dataset from a local file and display the first five rows."
      ]
    },
    {
      "cell_type": "code",
      "execution_count": 12,
      "metadata": {
        "id": "zi-ufFmj9e4h"
      },
      "outputs": [
        {
          "name": "stdout",
          "output_type": "stream",
          "text": [
            "   PassengerId  Survived  Pclass  \\\n",
            "0          892         0       3   \n",
            "1          893         1       3   \n",
            "2          894         0       2   \n",
            "3          895         0       3   \n",
            "4          896         1       3   \n",
            "\n",
            "                                           Name     Sex   Age  SibSp  Parch  \\\n",
            "0                              Kelly, Mr. James    male  34.5      0      0   \n",
            "1              Wilkes, Mrs. James (Ellen Needs)  female  47.0      1      0   \n",
            "2                     Myles, Mr. Thomas Francis    male  62.0      0      0   \n",
            "3                              Wirz, Mr. Albert    male  27.0      0      0   \n",
            "4  Hirvonen, Mrs. Alexander (Helga E Lindqvist)  female  22.0      1      1   \n",
            "\n",
            "    Ticket     Fare Cabin Embarked  \n",
            "0   330911   7.8292   NaN        Q  \n",
            "1   363272   7.0000   NaN        S  \n",
            "2   240276   9.6875   NaN        Q  \n",
            "3   315154   8.6625   NaN        S  \n",
            "4  3101298  12.2875   NaN        S  \n"
          ]
        }
      ],
      "source": [
        "tit = pd.read_csv('titanic_dataset.csv')\n",
        "\n",
        "print(tit.head(5))"
      ]
    },
    {
      "cell_type": "markdown",
      "metadata": {
        "id": "405AKURC9sqB"
      },
      "source": [
        "2. Display the dataset's column names, data types."
      ]
    },
    {
      "cell_type": "code",
      "execution_count": 13,
      "metadata": {
        "id": "88-8AT8W9uaI"
      },
      "outputs": [
        {
          "name": "stdout",
          "output_type": "stream",
          "text": [
            "<class 'pandas.core.frame.DataFrame'>\n",
            "RangeIndex: 418 entries, 0 to 417\n",
            "Data columns (total 12 columns):\n",
            " #   Column       Non-Null Count  Dtype  \n",
            "---  ------       --------------  -----  \n",
            " 0   PassengerId  418 non-null    int64  \n",
            " 1   Survived     418 non-null    int64  \n",
            " 2   Pclass       418 non-null    int64  \n",
            " 3   Name         418 non-null    object \n",
            " 4   Sex          418 non-null    object \n",
            " 5   Age          332 non-null    float64\n",
            " 6   SibSp        418 non-null    int64  \n",
            " 7   Parch        418 non-null    int64  \n",
            " 8   Ticket       418 non-null    object \n",
            " 9   Fare         417 non-null    float64\n",
            " 10  Cabin        91 non-null     object \n",
            " 11  Embarked     418 non-null    object \n",
            "dtypes: float64(2), int64(5), object(5)\n",
            "memory usage: 39.3+ KB\n",
            "None\n"
          ]
        }
      ],
      "source": [
        "print(tit.info())"
      ]
    },
    {
      "cell_type": "markdown",
      "metadata": {
        "id": "Eh9FsKUx9-8S"
      },
      "source": [
        "3. Display the dataset's missing values."
      ]
    },
    {
      "cell_type": "code",
      "execution_count": 14,
      "metadata": {
        "id": "olw7wFVH9-rG"
      },
      "outputs": [
        {
          "name": "stdout",
          "output_type": "stream",
          "text": [
            "PassengerId      0\n",
            "Survived         0\n",
            "Pclass           0\n",
            "Name             0\n",
            "Sex              0\n",
            "Age             86\n",
            "SibSp            0\n",
            "Parch            0\n",
            "Ticket           0\n",
            "Fare             1\n",
            "Cabin          327\n",
            "Embarked         0\n",
            "dtype: int64\n"
          ]
        }
      ],
      "source": [
        "print(tit.isna().sum())"
      ]
    },
    {
      "cell_type": "markdown",
      "metadata": {
        "id": "lNAGBAXv-LXs"
      },
      "source": [
        "4. Display the `Name`, `Age`, and `Fare` columns from the dataset. (first 10)"
      ]
    },
    {
      "cell_type": "code",
      "execution_count": 15,
      "metadata": {
        "id": "LNRu6hI7-dUV"
      },
      "outputs": [
        {
          "name": "stdout",
          "output_type": "stream",
          "text": [
            "                                           Name   Age     Fare\n",
            "0                              Kelly, Mr. James  34.5   7.8292\n",
            "1              Wilkes, Mrs. James (Ellen Needs)  47.0   7.0000\n",
            "2                     Myles, Mr. Thomas Francis  62.0   9.6875\n",
            "3                              Wirz, Mr. Albert  27.0   8.6625\n",
            "4  Hirvonen, Mrs. Alexander (Helga E Lindqvist)  22.0  12.2875\n",
            "5                    Svensson, Mr. Johan Cervin  14.0   9.2250\n",
            "6                          Connolly, Miss. Kate  30.0   7.6292\n",
            "7                  Caldwell, Mr. Albert Francis  26.0  29.0000\n",
            "8     Abrahim, Mrs. Joseph (Sophie Halaut Easu)  18.0   7.2292\n",
            "9                       Davies, Mr. John Samuel  21.0  24.1500\n"
          ]
        }
      ],
      "source": [
        "print(tit[['Name', 'Age', 'Fare']].head(10))"
      ]
    },
    {
      "cell_type": "markdown",
      "metadata": {
        "id": "z2iFTTa2-nAv"
      },
      "source": [
        " 5. Print the descriptive statistics of the Titanic dataset."
      ]
    },
    {
      "cell_type": "code",
      "execution_count": 16,
      "metadata": {
        "id": "VvurbDoL-xJE"
      },
      "outputs": [
        {
          "name": "stdout",
          "output_type": "stream",
          "text": [
            "       PassengerId    Survived      Pclass         Age       SibSp  \\\n",
            "count   418.000000  418.000000  418.000000  332.000000  418.000000   \n",
            "mean   1100.500000    0.363636    2.265550   30.272590    0.447368   \n",
            "std     120.810458    0.481622    0.841838   14.181209    0.896760   \n",
            "min     892.000000    0.000000    1.000000    0.170000    0.000000   \n",
            "25%     996.250000    0.000000    1.000000   21.000000    0.000000   \n",
            "50%    1100.500000    0.000000    3.000000   27.000000    0.000000   \n",
            "75%    1204.750000    1.000000    3.000000   39.000000    1.000000   \n",
            "max    1309.000000    1.000000    3.000000   76.000000    8.000000   \n",
            "\n",
            "            Parch        Fare  \n",
            "count  418.000000  417.000000  \n",
            "mean     0.392344   35.627188  \n",
            "std      0.981429   55.907576  \n",
            "min      0.000000    0.000000  \n",
            "25%      0.000000    7.895800  \n",
            "50%      0.000000   14.454200  \n",
            "75%      0.000000   31.500000  \n",
            "max      9.000000  512.329200  \n"
          ]
        }
      ],
      "source": [
        "df = pd.DataFrame(tit)\n",
        "\n",
        "print(df.describe())"
      ]
    },
    {
      "cell_type": "markdown",
      "metadata": {
        "id": "U95dijMI-9x1"
      },
      "source": [
        "6. Remove rows with missing values in the `Age` column."
      ]
    },
    {
      "cell_type": "code",
      "execution_count": 17,
      "metadata": {
        "id": "mMKNND-E_jnL"
      },
      "outputs": [
        {
          "name": "stdout",
          "output_type": "stream",
          "text": [
            "     PassengerId  Survived  Pclass                                                             Name     Sex    Age  SibSp  Parch              Ticket      Fare            Cabin Embarked\n",
            "0            892         0       3                                                 Kelly, Mr. James    male  34.50      0      0              330911    7.8292              NaN        Q\n",
            "1            893         1       3                                 Wilkes, Mrs. James (Ellen Needs)  female  47.00      1      0              363272    7.0000              NaN        S\n",
            "2            894         0       2                                        Myles, Mr. Thomas Francis    male  62.00      0      0              240276    9.6875              NaN        Q\n",
            "3            895         0       3                                                 Wirz, Mr. Albert    male  27.00      0      0              315154    8.6625              NaN        S\n",
            "4            896         1       3                     Hirvonen, Mrs. Alexander (Helga E Lindqvist)  female  22.00      1      1             3101298   12.2875              NaN        S\n",
            "5            897         0       3                                       Svensson, Mr. Johan Cervin    male  14.00      0      0                7538    9.2250              NaN        S\n",
            "6            898         1       3                                             Connolly, Miss. Kate  female  30.00      0      0              330972    7.6292              NaN        Q\n",
            "7            899         0       2                                     Caldwell, Mr. Albert Francis    male  26.00      1      1              248738   29.0000              NaN        S\n",
            "8            900         1       3                        Abrahim, Mrs. Joseph (Sophie Halaut Easu)  female  18.00      0      0                2657    7.2292              NaN        C\n",
            "9            901         0       3                                          Davies, Mr. John Samuel    male  21.00      2      0           A/4 48871   24.1500              NaN        S\n",
            "11           903         0       1                                       Jones, Mr. Charles Cresson    male  46.00      0      0                 694   26.0000              NaN        S\n",
            "12           904         1       1                    Snyder, Mrs. John Pillsbury (Nelle Stevenson)  female  23.00      1      0               21228   82.2667              B45        S\n",
            "13           905         0       2                                             Howard, Mr. Benjamin    male  63.00      1      0               24065   26.0000              NaN        S\n",
            "14           906         1       1          Chaffee, Mrs. Herbert Fuller (Carrie Constance Toogood)  female  47.00      1      0         W.E.P. 5734   61.1750              E31        S\n",
            "15           907         1       2                    del Carlo, Mrs. Sebastiano (Argenia Genovesi)  female  24.00      1      0       SC/PARIS 2167   27.7208              NaN        C\n",
            "16           908         0       2                                                Keane, Mr. Daniel    male  35.00      0      0              233734   12.3500              NaN        Q\n",
            "17           909         0       3                                                Assaf, Mr. Gerios    male  21.00      0      0                2692    7.2250              NaN        C\n",
            "18           910         1       3                                     Ilmakangas, Miss. Ida Livija  female  27.00      1      0    STON/O2. 3101270    7.9250              NaN        S\n",
            "19           911         1       3                            Assaf Khalil, Mrs. Mariana (Miriam\")\"  female  45.00      0      0                2696    7.2250              NaN        C\n",
            "20           912         0       1                                           Rothschild, Mr. Martin    male  55.00      1      0            PC 17603   59.4000              NaN        C\n",
            "21           913         0       3                                        Olsen, Master. Artur Karl    male   9.00      0      1             C 17368    3.1708              NaN        S\n",
            "23           915         0       1                                  Williams, Mr. Richard Norris II    male  21.00      0      1            PC 17597   61.3792              NaN        C\n",
            "24           916         1       1                  Ryerson, Mrs. Arthur Larned (Emily Maria Borie)  female  48.00      1      3            PC 17608  262.3750  B57 B59 B63 B66        C\n",
            "25           917         0       3                                          Robins, Mr. Alexander A    male  50.00      1      0           A/5. 3337   14.5000              NaN        S\n",
            "26           918         1       1                                     Ostby, Miss. Helene Ragnhild  female  22.00      0      1              113509   61.9792              B36        C\n",
            "27           919         0       3                                                Daher, Mr. Shedid    male  22.50      0      0                2698    7.2250              NaN        C\n",
            "28           920         0       1                                          Brady, Mr. John Bertram    male  41.00      0      0              113054   30.5000              A21        S\n",
            "30           922         0       2                                     Louch, Mr. Charles Alexander    male  50.00      1      0          SC/AH 3085   26.0000              NaN        S\n",
            "31           923         0       2                                    Jefferys, Mr. Clifford Thomas    male  24.00      2      0          C.A. 31029   31.5000              NaN        S\n",
            "32           924         1       3                         Dean, Mrs. Bertram (Eva Georgetta Light)  female  33.00      1      2           C.A. 2315   20.5750              NaN        S\n",
            "34           926         0       1                                         Mock, Mr. Philipp Edmund    male  30.00      1      0               13236   57.7500              C78        C\n",
            "35           927         0       3                 Katavelas, Mr. Vassilios (Catavelas Vassilios\")\"    male  18.50      0      0                2682    7.2292              NaN        C\n",
            "37           929         1       3                                               Cacic, Miss. Manda  female  21.00      0      0              315087    8.6625              NaN        S\n",
            "38           930         0       3                                                  Sap, Mr. Julius    male  25.00      0      0              345768    9.5000              NaN        S\n",
            "40           932         0       3                                                 Karun, Mr. Franz    male  39.00      0      1              349256   13.4167              NaN        C\n",
            "42           934         0       3                                            Goldsmith, Mr. Nathan    male  41.00      0      0  SOTON/O.Q. 3101263    7.8500              NaN        S\n",
            "43           935         1       2                            Corbett, Mrs. Walter H (Irene Colvin)  female  30.00      0      0              237249   13.0000              NaN        S\n",
            "44           936         1       1                 Kimball, Mrs. Edwin Nelson Jr (Gertrude Parsons)  female  45.00      1      0               11753   52.5542              D19        S\n",
            "45           937         0       3                                  Peltomaki, Mr. Nikolai Johannes    male  25.00      0      0   STON/O 2. 3101291    7.9250              NaN        S\n",
            "46           938         0       1                                         Chevre, Mr. Paul Romaine    male  45.00      0      0            PC 17594   29.7000               A9        C\n",
            "48           940         1       1                  Bucknell, Mrs. William Robert (Emma Eliza Ward)  female  60.00      0      0               11813   76.2917              D15        C\n",
            "49           941         1       3                   Coutts, Mrs. William (Winnie Minnie\" Treanor)\"  female  36.00      0      2          C.A. 37671   15.9000              NaN        S\n",
            "50           942         0       1                                         Smith, Mr. Lucien Philip    male  24.00      1      0               13695   60.0000              C31        S\n",
            "51           943         0       2                                               Pulbaum, Mr. Franz    male  27.00      0      0       SC/PARIS 2168   15.0333              NaN        C\n",
            "52           944         1       2                                    Hocking, Miss. Ellen Nellie\"\"  female  20.00      2      1               29105   23.0000              NaN        S\n",
            "53           945         1       1                                       Fortune, Miss. Ethel Flora  female  28.00      3      2               19950  263.0000      C23 C25 C27        S\n",
            "55           947         0       3                                             Rice, Master. Albert    male  10.00      4      1              382652   29.1250              NaN        Q\n",
            "56           948         0       3                                                  Cor, Mr. Bartol    male  35.00      0      0              349230    7.8958              NaN        S\n",
            "57           949         0       3                                    Abelseth, Mr. Olaus Jorgensen    male  25.00      0      0              348122    7.6500            F G63        S\n",
            "59           951         1       1                                      Chaudanson, Miss. Victorine  female  36.00      0      0            PC 17608  262.3750              B61        C\n",
            "60           952         0       3                                                  Dika, Mr. Mirko    male  17.00      0      0              349232    7.8958              NaN        S\n",
            "61           953         0       2                                        McCrae, Mr. Arthur Gordon    male  32.00      0      0              237216   13.5000              NaN        S\n",
            "62           954         0       3                                     Bjorklund, Mr. Ernst Herbert    male  18.00      0      0              347090    7.7500              NaN        S\n",
            "63           955         1       3                                     Bradley, Miss. Bridget Delia  female  22.00      0      0              334914    7.7250              NaN        Q\n",
            "64           956         0       1                                      Ryerson, Master. John Borie    male  13.00      2      2            PC 17608  262.3750  B57 B59 B63 B66        C\n",
            "66           958         1       3                                          Burns, Miss. Mary Delia  female  18.00      0      0              330963    7.8792              NaN        Q\n",
            "67           959         0       1                                   Moore, Mr. Clarence Bloomfield    male  47.00      0      0              113796   42.4000              NaN        S\n",
            "68           960         0       1                                  Tucker, Mr. Gilbert Milligan Jr    male  31.00      0      0                2543   28.5375              C53        C\n",
            "69           961         1       1                              Fortune, Mrs. Mark (Mary McDougald)  female  60.00      1      4               19950  263.0000      C23 C25 C27        S\n",
            "70           962         1       3                                        Mulvihill, Miss. Bertha E  female  24.00      0      0              382653    7.7500              NaN        Q\n",
            "71           963         0       3                                               Minkoff, Mr. Lazar    male  21.00      0      0              349211    7.8958              NaN        S\n",
            "72           964         1       3                                   Nieminen, Miss. Manta Josefina  female  29.00      0      0             3101297    7.9250              NaN        S\n",
            "73           965         0       1                                  Ovies y Rodriguez, Mr. Servando    male  28.50      0      0            PC 17562   27.7208              D43        C\n",
            "74           966         1       1                                             Geiger, Miss. Amalie  female  35.00      0      0              113503  211.5000             C130        C\n",
            "75           967         0       1                                               Keeping, Mr. Edwin    male  32.50      0      0              113503  211.5000             C132        C\n",
            "77           969         1       1             Cornell, Mrs. Robert Clifford (Malvina Helen Lamson)  female  55.00      2      0               11770   25.7000             C101        S\n",
            "78           970         0       2                                   Aldworth, Mr. Charles Augustus    male  30.00      0      0              248744   13.0000              NaN        S\n",
            "79           971         1       3                                           Doyle, Miss. Elizabeth  female  24.00      0      0              368702    7.7500              NaN        Q\n",
            "80           972         0       3                                             Boulos, Master. Akar    male   6.00      1      1                2678   15.2458              NaN        C\n",
            "81           973         0       1                                               Straus, Mr. Isidor    male  67.00      1      0            PC 17483  221.7792          C55 C57        S\n",
            "82           974         0       1                                           Case, Mr. Howard Brown    male  49.00      0      0               19924   26.0000              NaN        S\n",
            "86           978         1       3                                               Barry, Miss. Julia  female  27.00      0      0              330844    7.8792              NaN        Q\n",
            "87           979         1       3                                       Badman, Miss. Emily Louisa  female  18.00      0      0           A/4 31416    8.0500              NaN        S\n",
            "89           981         0       2                                      Wells, Master. Ralph Lester    male   2.00      1      1               29103   23.0000              NaN        S\n",
            "90           982         1       3      Dyker, Mrs. Adolf Fredrik (Anna Elisabeth Judith Andersson)  female  22.00      1      0              347072   13.9000              NaN        S\n",
            "92           984         1       1                             Davidson, Mrs. Thornton (Orian Hays)  female  27.00      1      2          F.C. 12750   52.0000              B71        S\n",
            "94           986         0       1                                              Birnbaum, Mr. Jakob    male  25.00      0      0               13905   26.0000              NaN        C\n",
            "95           987         0       3                                       Tenglin, Mr. Gunnar Isidor    male  25.00      0      0              350033    7.7958              NaN        S\n",
            "96           988         1       1           Cavendish, Mrs. Tyrell William (Julia Florence Siegel)  female  76.00      1      0               19877   78.8500              C46        S\n",
            "97           989         0       3                                        Makinen, Mr. Kalle Edvard    male  29.00      0      0   STON/O 2. 3101268    7.9250              NaN        S\n",
            "98           990         1       3                                     Braf, Miss. Elin Ester Maria  female  20.00      0      0              347471    7.8542              NaN        S\n",
            "99           991         0       3                                     Nancarrow, Mr. William Henry    male  33.00      0      0          A./5. 3338    8.0500              NaN        S\n",
            "100          992         1       1              Stengel, Mrs. Charles Emil Henry (Annie May Morris)  female  43.00      1      0               11778   55.4417             C116        C\n",
            "101          993         0       2                                               Weisz, Mr. Leopold    male  27.00      1      0              228414   26.0000              NaN        S\n",
            "103          995         0       3                           Johansson Palmquist, Mr. Oskar Leander    male  26.00      0      0              347070    7.7750              NaN        S\n",
            "104          996         1       3                        Thomas, Mrs. Alexander (Thamine Thelma\")\"  female  16.00      1      1                2625    8.5167              NaN        C\n",
            "105          997         0       3                                        Holthen, Mr. Johan Martin    male  28.00      0      0              C 4001   22.5250              NaN        S\n",
            "106          998         0       3                                              Buckley, Mr. Daniel    male  21.00      0      0              330920    7.8208              NaN        Q\n",
            "109         1001         0       2                                                Swane, Mr. George    male  18.50      0      0              248734   13.0000                F        S\n",
            "110         1002         0       2                                         Stanton, Mr. Samuel Ward    male  41.00      0      0              237734   15.0458              NaN        C\n",
            "112         1004         1       1                                         Evans, Miss. Edith Corse  female  36.00      0      0            PC 17531   31.6792              A29        C\n",
            "113         1005         1       3                                         Buckley, Miss. Katherine  female  18.50      0      0              329944    7.2833              NaN        Q\n",
            "114         1006         1       1                           Straus, Mrs. Isidor (Rosalie Ida Blun)  female  63.00      1      0            PC 17483  221.7792          C55 C57        S\n",
            "115         1007         0       3                                      Chronopoulos, Mr. Demetrios    male  18.00      1      0                2680   14.4542              NaN        C\n",
            "117         1009         1       3                                  Sandstrom, Miss. Beatrice Irene  female   1.00      1      1             PP 9549   16.7000               G6        S\n",
            "118         1010         0       1                                             Beattie, Mr. Thomson    male  36.00      0      0               13050   75.2417               C6        C\n",
            "119         1011         1       2                  Chapman, Mrs. John Henry (Sara Elizabeth Lawry)  female  29.00      1      0         SC/AH 29037   26.0000              NaN        S\n",
            "120         1012         1       2                                             Watt, Miss. Bertha J  female  12.00      0      0          C.A. 33595   15.7500              NaN        S\n",
            "122         1014         1       1                                  Schabert, Mrs. Paul (Emma Mock)  female  35.00      1      0               13236   57.7500              C28        C\n",
            "123         1015         0       3                                          Carver, Mr. Alfred John    male  28.00      0      0              392095    7.2500              NaN        S\n",
            "125         1017         1       3                                         Cribb, Miss. Laura Alice  female  17.00      0      1              371362   16.1000              NaN        S\n",
            "126         1018         0       3                                         Brobeck, Mr. Karl Rudolf    male  22.00      0      0              350045    7.7958              NaN        S\n",
            "128         1020         0       2                                             Bowenur, Mr. Solomon    male  42.00      0      0              211535   13.0000              NaN        S\n",
            "129         1021         0       3                                             Petersen, Mr. Marius    male  24.00      0      0              342441    8.0500              NaN        S\n",
            "130         1022         0       3                                          Spinner, Mr. Henry John    male  32.00      0      0     STON/OQ. 369943    8.0500              NaN        S\n",
            "131         1023         0       1                                        Gracie, Col. Archibald IV    male  53.00      0      0              113780   28.5000              C51        C\n",
            "134         1026         0       3                                           Dintcheff, Mr. Valtcho    male  43.00      0      0              349226    7.8958              NaN        S\n",
            "135         1027         0       3                                        Carlsson, Mr. Carl Robert    male  24.00      0      0              350409    7.8542              NaN        S\n",
            "136         1028         0       3                                        Zakarian, Mr. Mapriededer    male  26.50      0      0                2656    7.2250              NaN        C\n",
            "137         1029         0       2                                              Schmidt, Mr. August    male  26.00      0      0              248659   13.0000              NaN        S\n",
            "138         1030         1       3                                            Drapkin, Miss. Jennie  female  23.00      0      0     SOTON/OQ 392083    8.0500              NaN        S\n",
            "139         1031         0       3                                   Goodwin, Mr. Charles Frederick    male  40.00      1      6             CA 2144   46.9000              NaN        S\n",
            "140         1032         1       3                                      Goodwin, Miss. Jessie Allis  female  10.00      5      2             CA 2144   46.9000              NaN        S\n",
            "141         1033         1       1                                             Daniels, Miss. Sarah  female  33.00      0      0              113781  151.5500              NaN        S\n",
            "142         1034         0       1                                       Ryerson, Mr. Arthur Larned    male  61.00      1      3            PC 17608  262.3750  B57 B59 B63 B66        C\n",
            "143         1035         0       2                                       Beauchamp, Mr. Henry James    male  28.00      0      0              244358   26.0000              NaN        S\n",
            "144         1036         0       1            Lindeberg-Lind, Mr. Erik Gustaf (Mr Edward Lingrey\")\"    male  42.00      0      0               17475   26.5500              NaN        S\n",
            "145         1037         0       3                                        Vander Planke, Mr. Julius    male  31.00      3      0              345763   18.0000              NaN        S\n",
            "147         1039         0       3                                                 Davies, Mr. Evan    male  22.00      0      0         SC/A4 23568    8.0500              NaN        S\n",
            "149         1041         0       2                                           Lahtinen, Rev. William    male  30.00      1      1              250651   26.0000              NaN        S\n",
            "150         1042         1       1                            Earnshaw, Mrs. Boulton (Olive Potter)  female  23.00      0      1               11767   83.1583              C54        C\n",
            "152         1044         0       3                                               Storey, Mr. Thomas    male  60.50      0      0                3701       NaN              NaN        S\n",
            "153         1045         1       3                   Klasen, Mrs. (Hulda Kristina Eugenia Lofqvist)  female  36.00      0      2              350405   12.1833              NaN        S\n",
            "154         1046         0       3                                     Asplund, Master. Filip Oscar    male  13.00      4      2              347077   31.3875              NaN        S\n",
            "155         1047         0       3                                             Duquemin, Mr. Joseph    male  24.00      0      0       S.O./P.P. 752    7.5500              NaN        S\n",
            "156         1048         1       1                                                Bird, Miss. Ellen  female  29.00      0      0            PC 17483  221.7792              C97        S\n",
            "157         1049         1       3                                         Lundin, Miss. Olga Elida  female  23.00      0      0              347469    7.8542              NaN        S\n",
            "158         1050         0       1                                         Borebank, Mr. John James    male  42.00      0      0              110489   26.5500              D22        S\n",
            "159         1051         1       3                              Peacock, Mrs. Benjamin (Edith Nile)  female  26.00      0      2  SOTON/O.Q. 3101315   13.7750              NaN        S\n",
            "161         1053         0       3                                   Touma, Master. Georges Youssef    male   7.00      1      1                2650   15.2458              NaN        C\n",
            "162         1054         1       2                                             Wright, Miss. Marion  female  26.00      0      0              220844   13.5000              NaN        S\n",
            "164         1056         0       2                                    Peruschitz, Rev. Joseph Maria    male  41.00      0      0              237393   13.0000              NaN        S\n",
            "165         1057         1       3                       Kink-Heilmann, Mrs. Anton (Luise Heilmann)  female  26.00      1      1              315153   22.0250              NaN        S\n",
            "166         1058         0       1                                               Brandeis, Mr. Emil    male  48.00      0      0            PC 17591   50.4958              B10        C\n",
            "167         1059         0       3                                          Ford, Mr. Edward Watson    male  18.00      2      2          W./C. 6608   34.3750              NaN        S\n",
            "169         1061         1       3                                     Hellstrom, Miss. Hilda Maria  female  22.00      0      0                7548    8.9625              NaN        S\n",
            "171         1063         0       3                                              Zakarian, Mr. Ortin    male  27.00      0      0                2670    7.2250              NaN        C\n",
            "172         1064         0       3                                         Dyker, Mr. Adolf Fredrik    male  23.00      1      0              347072   13.9000              NaN        S\n",
            "174         1066         0       3                       Asplund, Mr. Carl Oscar Vilhelm Gustafsson    male  40.00      1      5              347077   31.3875              NaN        S\n",
            "175         1067         1       2                                        Brown, Miss. Edith Eileen  female  15.00      0      2               29750   39.0000              NaN        S\n",
            "176         1068         1       2                                             Sincock, Miss. Maude  female  20.00      0      0          C.A. 33112   36.7500              NaN        S\n",
            "177         1069         0       1                                  Stengel, Mr. Charles Emil Henry    male  54.00      1      0               11778   55.4417             C116        C\n",
            "178         1070         1       2                 Becker, Mrs. Allen Oliver (Nellie E Baumgardner)  female  36.00      0      3              230136   39.0000               F4        S\n",
            "179         1071         1       1            Compton, Mrs. Alexander Taylor (Mary Eliza Ingersoll)  female  64.00      0      2            PC 17756   83.1583              E45        C\n",
            "180         1072         0       2                                        McCrie, Mr. James Matthew    male  30.00      0      0              233478   13.0000              NaN        S\n",
            "181         1073         0       1                                 Compton, Mr. Alexander Taylor Jr    male  37.00      1      1            PC 17756   83.1583              E52        C\n",
            "182         1074         1       1   Marvin, Mrs. Daniel Warner (Mary Graham Carmichael Farquarson)  female  18.00      1      0              113773   53.1000              D30        S\n",
            "184         1076         1       1             Douglas, Mrs. Frederick Charles (Mary Helene Baxter)  female  27.00      1      1            PC 17558  247.5208          B58 B60        C\n",
            "185         1077         0       2                                        Maybery, Mr. Frank Hubert    male  40.00      0      0              239059   16.0000              NaN        S\n",
            "186         1078         1       2                             Phillips, Miss. Alice Frances Louisa  female  21.00      0      1         S.O./P.P. 2   21.0000              NaN        S\n",
            "187         1079         0       3                                               Davies, Mr. Joseph    male  17.00      2      0           A/4 48873    8.0500              NaN        S\n",
            "189         1081         0       2                                                  Veal, Mr. James    male  40.00      0      0               28221   13.0000              NaN        S\n",
            "190         1082         0       2                                             Angle, Mr. William A    male  34.00      1      0              226875   26.0000              NaN        S\n",
            "192         1084         0       3                                van Billiard, Master. Walter John    male  11.50      1      1            A/5. 851   14.5000              NaN        S\n",
            "193         1085         0       2                                                Lingane, Mr. John    male  61.00      0      0              235509   12.3500              NaN        Q\n",
            "194         1086         0       2                                    Drew, Master. Marshall Brines    male   8.00      0      2               28220   32.5000              NaN        S\n",
            "195         1087         0       3                                Karlsson, Mr. Julius Konrad Eugen    male  33.00      0      0              347465    7.8542              NaN        S\n",
            "196         1088         0       1                                  Spedden, Master. Robert Douglas    male   6.00      0      2               16966  134.5000              E34        C\n",
            "197         1089         1       3                                      Nilsson, Miss. Berta Olivia  female  18.00      0      0              347066    7.7750              NaN        S\n",
            "198         1090         0       2                                   Baimbrigge, Mr. Charles Robert    male  23.00      0      0          C.A. 31030   10.5000              NaN        S\n",
            "201         1093         0       3                          Danbom, Master. Gilbert Sigvard Emanuel    male   0.33      0      2              347080   14.4000              NaN        S\n",
            "202         1094         0       1                                           Astor, Col. John Jacob    male  47.00      1      0            PC 17757  227.5250          C62 C64        C\n",
            "203         1095         1       2                                       Quick, Miss. Winifred Vera  female   8.00      1      1               26360   26.0000              NaN        S\n",
            "204         1096         0       2                                         Andrew, Mr. Frank Thomas    male  25.00      0      0          C.A. 34050   10.5000              NaN        S\n",
            "206         1098         1       3                                         McGowan, Miss. Katherine  female  35.00      0      0                9232    7.7500              NaN        Q\n",
            "207         1099         0       2                                     Collett, Mr. Sidney C Stuart    male  24.00      0      0               28034   10.5000              NaN        S\n",
            "208         1100         1       1                                    Rosenbaum, Miss. Edith Louise  female  33.00      0      0            PC 17613   27.7208              A11        C\n",
            "209         1101         0       3                                               Delalic, Mr. Redjo    male  25.00      0      0              349250    7.8958              NaN        S\n",
            "210         1102         0       3                                      Andersen, Mr. Albert Karvin    male  32.00      0      0              C 4001   22.5250              NaN        S\n",
            "212         1104         0       2                                        Deacon, Mr. Percy William    male  17.00      0      0        S.O.C. 14879   73.5000              NaN        S\n",
            "213         1105         1       2                     Howard, Mrs. Benjamin (Ellen Truelove Arman)  female  60.00      1      0               24065   26.0000              NaN        S\n",
            "214         1106         1       3                           Andersson, Miss. Ida Augusta Margareta  female  38.00      4      2              347091    7.7750              NaN        S\n",
            "215         1107         0       1                                            Head, Mr. Christopher    male  42.00      0      0              113038   42.5000              B11        S\n",
            "217         1109         0       1                                         Wick, Mr. George Dennick    male  57.00      1      1               36928  164.8667              NaN        S\n",
            "218         1110         1       1                     Widener, Mrs. George Dunton (Eleanor Elkins)  female  50.00      1      1              113503  211.5000              C80        C\n",
            "220         1112         1       2                                   Duran y More, Miss. Florentina  female  30.00      1      0       SC/PARIS 2148   13.8583              NaN        C\n",
            "221         1113         0       3                                           Reynolds, Mr. Harold J    male  21.00      0      0              342684    8.0500              NaN        S\n",
            "222         1114         1       2                                       Cook, Mrs. (Selena Rogers)  female  22.00      0      0         W./C. 14266   10.5000              F33        S\n",
            "223         1115         0       3                                    Karlsson, Mr. Einar Gervasius    male  21.00      0      0              350053    7.7958              NaN        S\n",
            "224         1116         1       1                 Candee, Mrs. Edward (Helen Churchill Hungerford)  female  53.00      0      0            PC 17606   27.4458              NaN        C\n",
            "226         1118         0       3                                       Asplund, Mr. Johan Charles    male  23.00      0      0              350054    7.7958              NaN        S\n",
            "228         1120         0       3                                        Everett, Mr. Thomas James    male  40.50      0      0           C.A. 6212   15.1000              NaN        S\n",
            "229         1121         0       2                               Hocking, Mr. Samuel James Metcalfe    male  36.00      0      0              242963   13.0000              NaN        S\n",
            "230         1122         0       2                                      Sweet, Mr. George Frederick    male  14.00      0      0              220845   65.0000              NaN        S\n",
            "231         1123         1       1                                         Willard, Miss. Constance  female  21.00      0      0              113795   26.5500              NaN        S\n",
            "232         1124         0       3                                          Wiklund, Mr. Karl Johan    male  21.00      1      0             3101266    6.4958              NaN        S\n",
            "234         1126         0       1                                        Cumings, Mr. John Bradley    male  39.00      1      0            PC 17599   71.2833              C85        C\n",
            "235         1127         0       3                                           Vendel, Mr. Olof Edvin    male  20.00      0      0              350416    7.8542              NaN        S\n",
            "236         1128         0       1                                         Warren, Mr. Frank Manley    male  64.00      1      0              110813   75.2500              D37        C\n",
            "237         1129         0       3                                              Baccos, Mr. Raffull    male  20.00      0      0                2679    7.2250              NaN        C\n",
            "238         1130         1       2                                            Hiltunen, Miss. Marta  female  18.00      1      1              250650   13.0000              NaN        S\n",
            "239         1131         1       1                      Douglas, Mrs. Walter Donald (Mahala Dutton)  female  48.00      1      0            PC 17761  106.4250              C86        C\n",
            "240         1132         1       1                        Lindstrom, Mrs. Carl Johan (Sigrid Posse)  female  55.00      0      0              112377   27.7208              NaN        C\n",
            "241         1133         1       2                                    Christy, Mrs. (Alice Frances)  female  45.00      0      2              237789   30.0000              NaN        S\n",
            "242         1134         0       1                                     Spedden, Mr. Frederic Oakley    male  45.00      1      1               16966  134.5000              E34        C\n",
            "245         1137         0       1                                          Kenyon, Mr. Frederick R    male  41.00      1      0               17464   51.8625              D21        S\n",
            "246         1138         1       2                            Karnes, Mrs. J Frank (Claire Bennett)  female  22.00      0      0        F.C.C. 13534   21.0000              NaN        S\n",
            "247         1139         0       2                                           Drew, Mr. James Vivian    male  42.00      1      1               28220   32.5000              NaN        S\n",
            "248         1140         1       2                         Hold, Mrs. Stephen (Annie Margaret Hill)  female  29.00      1      0               26707   26.0000              NaN        S\n",
            "250         1142         1       2                                            West, Miss. Barbara J  female   0.92      1      2          C.A. 34651   27.7500              NaN        S\n",
            "251         1143         0       3                         Abrahamsson, Mr. Abraham August Johannes    male  20.00      0      0    SOTON/O2 3101284    7.9250              NaN        S\n",
            "252         1144         0       1                                         Clark, Mr. Walter Miller    male  27.00      1      0               13508  136.7792              C89        C\n",
            "253         1145         0       3                                         Salander, Mr. Karl Johan    male  24.00      0      0                7266    9.3250              NaN        S\n",
            "254         1146         0       3                                              Wenzel, Mr. Linhart    male  32.50      0      0              345775    9.5000              NaN        S\n",
            "257         1149         0       3                                            Niklasson, Mr. Samuel    male  28.00      0      0              363611    8.0500              NaN        S\n",
            "258         1150         1       2                                          Bentham, Miss. Lilian W  female  19.00      0      0               28404   13.0000              NaN        S\n",
            "259         1151         0       3                                         Midtsjo, Mr. Karl Albert    male  21.00      0      0              345501    7.7750              NaN        S\n",
            "260         1152         0       3                             de Messemaeker, Mr. Guillaume Joseph    male  36.50      1      0              345572   17.4000              NaN        S\n",
            "261         1153         0       3                                    Nilsson, Mr. August Ferdinand    male  21.00      0      0              350410    7.8542              NaN        S\n",
            "262         1154         1       2                Wells, Mrs. Arthur Henry (Addie\" Dart Trevaskis)\"  female  29.00      0      2               29103   23.0000              NaN        S\n",
            "263         1155         1       3                                     Klasen, Miss. Gertrud Emilia  female   1.00      1      1              350405   12.1833              NaN        S\n",
            "264         1156         0       2                           Portaluppi, Mr. Emilio Ilario Giuseppe    male  30.00      0      0          C.A. 34644   12.7375              NaN        C\n",
            "269         1161         0       3                                                Pokrnic, Mr. Mate    male  17.00      0      0              315095    8.6625              NaN        S\n",
            "270         1162         0       1                                     McCaffry, Mr. Thomas Francis    male  46.00      0      0               13050   75.2417               C6        C\n",
            "272         1164         1       1                    Clark, Mrs. Walter Miller (Virginia McDowell)  female  26.00      1      0               13508  136.7792              C89        C\n",
            "275         1167         1       2                              Bryhl, Miss. Dagmar Jenny Ingeborg   female  20.00      1      0              236853   26.0000              NaN        S\n",
            "276         1168         0       2                                     Parker, Mr. Clifford Richard    male  28.00      0      0            SC 14888   10.5000              NaN        S\n",
            "277         1169         0       2                                            Faunthorpe, Mr. Harry    male  40.00      1      0                2926   26.0000              NaN        S\n",
            "278         1170         0       2                                             Ware, Mr. John James    male  30.00      1      0            CA 31352   21.0000              NaN        S\n",
            "279         1171         0       2                                        Oxenham, Mr. Percy Thomas    male  22.00      0      0         W./C. 14260   10.5000              NaN        S\n",
            "280         1172         1       3                                           Oreskovic, Miss. Jelka  female  23.00      0      0              315085    8.6625              NaN        S\n",
            "281         1173         0       3                                   Peacock, Master. Alfred Edward    male   0.75      1      1  SOTON/O.Q. 3101315   13.7750              NaN        S\n",
            "283         1175         1       3                                       Touma, Miss. Maria Youssef  female   9.00      1      1                2650   15.2458              NaN        C\n",
            "284         1176         1       3                                      Rosblom, Miss. Salli Helena  female   2.00      1      1              370129   20.2125              NaN        S\n",
            "285         1177         0       3                                              Dennis, Mr. William    male  36.00      0      0           A/5 21175    7.2500              NaN        S\n",
            "287         1179         0       1                                       Snyder, Mr. John Pillsbury    male  24.00      1      0               21228   82.2667              B45        S\n",
            "291         1183         1       3                           Daly, Miss. Margaret Marcella Maggie\"\"  female  30.00      0      0              382650    6.9500              NaN        Q\n",
            "293         1185         0       1                                            Dodge, Dr. Washington    male  53.00      1      1               33638   81.8583              A34        S\n",
            "294         1186         0       3                                        Wittevrongel, Mr. Camille    male  36.00      0      0              345771    9.5000              NaN        S\n",
            "295         1187         0       3                                             Angheloff, Mr. Minko    male  26.00      0      0              349202    7.8958              NaN        S\n",
            "296         1188         1       2                                            Laroche, Miss. Louise  female   1.00      1      2       SC/Paris 2123   41.5792              NaN        C\n",
            "298         1190         0       1                                       Loring, Mr. Joseph Holland    male  30.00      0      0              113801   45.5000              NaN        S\n",
            "299         1191         0       3                                              Johansson, Mr. Nils    male  29.00      0      0              347467    7.8542              NaN        S\n",
            "300         1192         0       3                                        Olsson, Mr. Oscar Wilhelm    male  32.00      0      0              347079    7.7750              NaN        S\n",
            "302         1194         0       2                                      Phillips, Mr. Escott Robert    male  43.00      0      1         S.O./P.P. 2   21.0000              NaN        S\n",
            "303         1195         0       3                                                Pokrnic, Mr. Tome    male  24.00      0      0              315092    8.6625              NaN        S\n",
            "305         1197         1       1       Crosby, Mrs. Edward Gifford (Catherine Elizabeth Halstead)  female  64.00      1      1              112901   26.5500              B26        S\n",
            "306         1198         0       1                             Allison, Mr. Hudson Joshua Creighton    male  30.00      1      2              113781  151.5500          C22 C26        S\n",
            "307         1199         0       3                                        Aks, Master. Philip Frank    male   0.83      0      1              392091    9.3500              NaN        S\n",
            "308         1200         0       1                                       Hays, Mr. Charles Melville    male  55.00      1      1               12749   93.5000              B69        S\n",
            "309         1201         1       3                       Hansen, Mrs. Claus Peter (Jennie L Howard)  female  45.00      1      0              350026   14.1083              NaN        S\n",
            "310         1202         0       3                                             Cacic, Mr. Jego Grga    male  18.00      0      0              315091    8.6625              NaN        S\n",
            "311         1203         0       3                                             Vartanian, Mr. David    male  22.00      0      0                2658    7.2250              NaN        C\n",
            "313         1205         1       3                                              Carr, Miss. Jeannie  female  37.00      0      0              368364    7.7500              NaN        Q\n",
            "314         1206         1       1                            White, Mrs. John Stuart (Ella Holmes)  female  55.00      0      0            PC 17760  135.6333              C32        C\n",
            "315         1207         1       3                                             Hagardon, Miss. Kate  female  17.00      0      0         AQ/3. 30631    7.7333              NaN        Q\n",
            "316         1208         0       1                                    Spencer, Mr. William Augustus    male  57.00      1      0            PC 17569  146.5208              B78        C\n",
            "317         1209         0       2                                       Rogers, Mr. Reginald Harry    male  19.00      0      0               28004   10.5000              NaN        S\n",
            "318         1210         0       3                                        Jonsson, Mr. Nils Hilding    male  27.00      0      0              350408    7.8542              NaN        S\n",
            "319         1211         0       2                                     Jefferys, Mr. Ernest Wilfred    male  22.00      2      0          C.A. 31029   31.5000              NaN        S\n",
            "320         1212         0       3                                      Andersson, Mr. Johan Samuel    male  26.00      0      0              347075    7.7750              NaN        S\n",
            "321         1213         0       3                                            Krekorian, Mr. Neshan    male  25.00      0      0                2654    7.2292            F E57        C\n",
            "322         1214         0       2                                               Nesson, Mr. Israel    male  26.00      0      0              244368   13.0000               F2        S\n",
            "323         1215         0       1                                               Rowe, Mr. Alfred G    male  33.00      0      0              113790   26.5500              NaN        S\n",
            "324         1216         1       1                                           Kreuchen, Miss. Emilie  female  39.00      0      0               24160  211.3375              NaN        S\n",
            "325         1217         0       3                                                   Assam, Mr. Ali    male  23.00      0      0  SOTON/O.Q. 3101309    7.0500              NaN        S\n",
            "326         1218         1       2                                     Becker, Miss. Ruth Elizabeth  female  12.00      2      1              230136   39.0000               F4        S\n",
            "327         1219         0       1                      Rosenshine, Mr. George (Mr George Thorne\")\"    male  46.00      0      0            PC 17585   79.2000              NaN        C\n",
            "328         1220         0       2                                    Clarke, Mr. Charles Valentine    male  29.00      1      0                2003   26.0000              NaN        S\n",
            "329         1221         0       2                                              Enander, Mr. Ingvar    male  21.00      0      0              236854   13.0000              NaN        S\n",
            "330         1222         1       2           Davies, Mrs. John Morgan (Elizabeth Agnes Mary White)   female  48.00      0      2          C.A. 33112   36.7500              NaN        S\n",
            "331         1223         0       1                                     Dulles, Mr. William Crothers    male  39.00      0      0            PC 17580   29.7000              A18        C\n",
            "333         1225         1       3                            Nakid, Mrs. Said (Waika Mary\" Mowad)\"  female  19.00      1      1                2653   15.7417              NaN        C\n",
            "334         1226         0       3                                                    Cor, Mr. Ivan    male  27.00      0      0              349229    7.8958              NaN        S\n",
            "335         1227         0       1                                         Maguire, Mr. John Edward    male  30.00      0      0              110469   26.0000             C106        S\n",
            "336         1228         0       2                                       de Brito, Mr. Jose Joaquim    male  32.00      0      0              244360   13.0000              NaN        S\n",
            "337         1229         0       3                                                Elias, Mr. Joseph    male  39.00      0      2                2675    7.2292              NaN        C\n",
            "338         1230         0       2                                             Denbury, Mr. Herbert    male  25.00      0      0          C.A. 31029   31.5000              NaN        S\n",
            "340         1232         0       2                                    Fillbrook, Mr. Joseph Charles    male  18.00      0      0          C.A. 15185   10.5000              NaN        S\n",
            "341         1233         0       3                                       Lundstrom, Mr. Thure Edvin    male  32.00      0      0              350403    7.5792              NaN        S\n",
            "343         1235         1       1  Cardeza, Mrs. James Warburton Martinez (Charlotte Wardle Drake)  female  58.00      0      1            PC 17755  512.3292      B51 B53 B55        C\n",
            "345         1237         1       3                                      Abelseth, Miss. Karen Marie  female  16.00      0      0              348125    7.6500              NaN        S\n",
            "346         1238         0       2                                       Botsford, Mr. William Hull    male  26.00      0      0              237670   13.0000              NaN        S\n",
            "347         1239         1       3                  Whabee, Mrs. George Joseph (Shawneene Abi-Saab)  female  38.00      0      0                2688    7.2292              NaN        C\n",
            "348         1240         0       2                                                 Giles, Mr. Ralph    male  24.00      0      0              248726   13.5000              NaN        S\n",
            "349         1241         1       2                                           Walcroft, Miss. Nellie  female  31.00      0      0        F.C.C. 13528   21.0000              NaN        S\n",
            "350         1242         1       1                     Greenfield, Mrs. Leo David (Blanche Strouse)  female  45.00      0      1            PC 17759   63.3583          D10 D12        C\n",
            "351         1243         0       2                                        Stokes, Mr. Philip Joseph    male  25.00      0      0        F.C.C. 13540   10.5000              NaN        S\n",
            "352         1244         0       2                                              Dibden, Mr. William    male  18.00      0      0        S.O.C. 14879   73.5000              NaN        S\n",
            "353         1245         0       2                                               Herman, Mr. Samuel    male  49.00      1      2              220845   65.0000              NaN        S\n",
            "354         1246         1       3                          Dean, Miss. Elizabeth Gladys Millvina\"\"  female   0.17      1      2           C.A. 2315   20.5750              NaN        S\n",
            "355         1247         0       1                                         Julian, Mr. Henry Forbes    male  50.00      0      0              113044   26.0000              E60        S\n",
            "356         1248         1       1                   Brown, Mrs. John Murray (Caroline Lane Lamson)  female  59.00      2      0               11769   51.4792             C101        S\n",
            "359         1251         1       3              Lindell, Mrs. Edvard Bengtsson (Elin Gerda Persson)  female  30.00      1      0              349910   15.5500              NaN        S\n",
            "360         1252         0       3                                      Sage, Master. William Henry    male  14.50      8      2            CA. 2343   69.5500              NaN        S\n",
            "361         1253         1       2                          Mallet, Mrs. Albert (Antoinette Magnin)  female  24.00      1      1     S.C./PARIS 2079   37.0042              NaN        C\n",
            "362         1254         1       2                     Ware, Mrs. John James (Florence Louise Long)  female  31.00      0      0            CA 31352   21.0000              NaN        S\n",
            "363         1255         0       3                                                Strilic, Mr. Ivan    male  27.00      0      0              315083    8.6625              NaN        S\n",
            "364         1256         1       1                     Harder, Mrs. George Achilles (Dorothy Annan)  female  25.00      1      0               11765   55.4417              E50        C\n",
            "367         1259         1       3                     Riihivouri, Miss. Susanna Juhantytar Sanni\"\"  female  22.00      0      0             3101295   39.6875              NaN        S\n",
            "368         1260         1       1                          Gibson, Mrs. Leonard (Pauline C Boeson)  female  45.00      0      1              112378   59.4000              NaN        C\n",
            "369         1261         0       2                                    Pallas y Castello, Mr. Emilio    male  29.00      0      0       SC/PARIS 2147   13.8583              NaN        C\n",
            "370         1262         0       2                                                 Giles, Mr. Edgar    male  21.00      1      0               28133   11.5000              NaN        S\n",
            "371         1263         1       1                                        Wilson, Miss. Helen Alice  female  31.00      0      0               16966  134.5000          E39 E41        C\n",
            "372         1264         0       1                                          Ismay, Mr. Joseph Bruce    male  49.00      0      0              112058    0.0000      B52 B54 B56        S\n",
            "373         1265         0       2                                           Harbeck, Mr. William H    male  44.00      0      0              248746   13.0000              NaN        S\n",
            "374         1266         1       1                            Dodge, Mrs. Washington (Ruth Vidaver)  female  54.00      1      1               33638   81.8583              A34        S\n",
            "375         1267         1       1                                         Bowen, Miss. Grace Scott  female  45.00      0      0            PC 17608  262.3750              NaN        C\n",
            "376         1268         1       3                                                Kink, Miss. Maria  female  22.00      2      0              315152    8.6625              NaN        S\n",
            "377         1269         0       2                                     Cotterill, Mr. Henry Harry\"\"    male  21.00      0      0               29107   11.5000              NaN        S\n",
            "378         1270         0       1                                      Hipkins, Mr. William Edward    male  55.00      0      0                 680   50.0000              C39        S\n",
            "379         1271         0       3                                      Asplund, Master. Carl Edgar    male   5.00      4      2              347077   31.3875              NaN        S\n",
            "381         1273         0       3                                                Foley, Mr. Joseph    male  26.00      0      0              330910    7.8792              NaN        Q\n",
            "383         1275         1       3                              McNamee, Mrs. Neal (Eileen O'Leary)  female  19.00      1      0              376566   16.1000              NaN        S\n",
            "385         1277         1       2                                               Herman, Miss. Kate  female  24.00      1      2              220845   65.0000              NaN        S\n",
            "386         1278         0       3                                   Aronsson, Mr. Ernst Axel Algot    male  24.00      0      0              349911    7.7750              NaN        S\n",
            "387         1279         0       2                                                  Ashby, Mr. John    male  57.00      0      0              244346   13.0000              NaN        S\n",
            "388         1280         0       3                                             Canavan, Mr. Patrick    male  21.00      0      0              364858    7.7500              NaN        Q\n",
            "389         1281         0       3                                      Palsson, Master. Paul Folke    male   6.00      3      1              349909   21.0750              NaN        S\n",
            "390         1282         0       1                                       Payne, Mr. Vivian Ponsonby    male  23.00      0      0               12749   93.5000              B24        S\n",
            "391         1283         1       1                   Lines, Mrs. Ernest H (Elizabeth Lindsey James)  female  51.00      0      1            PC 17592   39.4000              D28        S\n",
            "392         1284         0       3                                    Abbott, Master. Eugene Joseph    male  13.00      0      2           C.A. 2673   20.2500              NaN        S\n",
            "393         1285         0       2                                             Gilbert, Mr. William    male  47.00      0      0          C.A. 30769   10.5000              NaN        S\n",
            "394         1286         0       3                                         Kink-Heilmann, Mr. Anton    male  29.00      3      1              315153   22.0250              NaN        S\n",
            "395         1287         1       1                   Smith, Mrs. Lucien Philip (Mary Eloise Hughes)  female  18.00      1      0               13695   60.0000              C31        S\n",
            "396         1288         0       3                                             Colbert, Mr. Patrick    male  24.00      0      0              371109    7.2500              NaN        Q\n",
            "397         1289         1       1  Frolicher-Stehli, Mrs. Maxmillian (Margaretha Emerentia Stehli)  female  48.00      1      1               13567   79.2000              B41        C\n",
            "398         1290         0       3                                   Larsson-Rondberg, Mr. Edvard A    male  22.00      0      0              347065    7.7750              NaN        S\n",
            "399         1291         0       3                                         Conlon, Mr. Thomas Henry    male  31.00      0      0               21332    7.7333              NaN        Q\n",
            "400         1292         1       1                                          Bonnell, Miss. Caroline  female  30.00      0      0               36928  164.8667               C7        S\n",
            "401         1293         0       2                                                  Gale, Mr. Harry    male  38.00      1      0               28664   21.0000              NaN        S\n",
            "402         1294         1       1                                   Gibson, Miss. Dorothy Winifred  female  22.00      0      1              112378   59.4000              NaN        C\n",
            "403         1295         0       1                                           Carrau, Mr. Jose Pedro    male  17.00      0      0              113059   47.1000              NaN        S\n",
            "404         1296         0       1                                     Frauenthal, Mr. Isaac Gerald    male  43.00      1      0               17765   27.7208              D40        C\n",
            "405         1297         0       2                     Nourney, Mr. Alfred (Baron von Drachstedt\")\"    male  20.00      0      0       SC/PARIS 2166   13.8625              D38        C\n",
            "406         1298         0       2                                        Ware, Mr. William Jeffery    male  23.00      1      0               28666   10.5000              NaN        S\n",
            "407         1299         0       1                                       Widener, Mr. George Dunton    male  50.00      1      1              113503  211.5000              C80        C\n",
            "409         1301         1       3                                        Peacock, Miss. Treasteall  female   3.00      1      1  SOTON/O.Q. 3101315   13.7750              NaN        S\n",
            "411         1303         1       1                  Minahan, Mrs. William Edward (Lillian E Thorpe)  female  37.00      1      0               19928   90.0000              C78        Q\n",
            "412         1304         1       3                                   Henriksson, Miss. Jenny Lovisa  female  28.00      0      0              347086    7.7750              NaN        S\n",
            "414         1306         1       1                                     Oliva y Ocana, Dona. Fermina  female  39.00      0      0            PC 17758  108.9000             C105        C\n",
            "415         1307         0       3                                     Saether, Mr. Simon Sivertsen    male  38.50      0      0  SOTON/O.Q. 3101262    7.2500              NaN        S\n"
          ]
        }
      ],
      "source": [
        "missing_age = df.dropna(subset=['Age'])\n",
        "\n",
        "print(missing_age.to_string())"
      ]
    },
    {
      "cell_type": "markdown",
      "metadata": {
        "id": "U-2X_e-fFHI5"
      },
      "source": [
        "7. Remove duplicate rows from the dataset."
      ]
    },
    {
      "cell_type": "code",
      "execution_count": 18,
      "metadata": {
        "id": "l2X-ym9eFIT-"
      },
      "outputs": [
        {
          "name": "stdout",
          "output_type": "stream",
          "text": [
            "0      False\n",
            "1      False\n",
            "2      False\n",
            "3      False\n",
            "4      False\n",
            "       ...  \n",
            "413    False\n",
            "414    False\n",
            "415    False\n",
            "416    False\n",
            "417    False\n",
            "Length: 418, dtype: bool\n"
          ]
        }
      ],
      "source": [
        "print(df.duplicated())"
      ]
    },
    {
      "cell_type": "markdown",
      "metadata": {
        "id": "b-SvrKnKFL1m"
      },
      "source": [
        "8. Compute and display the correlation matrix of the dataset."
      ]
    },
    {
      "cell_type": "code",
      "execution_count": 19,
      "metadata": {},
      "outputs": [
        {
          "ename": "ValueError",
          "evalue": "could not convert string to float: 'Kelly, Mr. James'",
          "output_type": "error",
          "traceback": [
            "\u001b[0;31m---------------------------------------------------------------------------\u001b[0m",
            "\u001b[0;31mValueError\u001b[0m                                Traceback (most recent call last)",
            "Cell \u001b[0;32mIn[19], line 1\u001b[0m\n\u001b[0;32m----> 1\u001b[0m \u001b[38;5;28mprint\u001b[39m(\u001b[43mdf\u001b[49m\u001b[38;5;241;43m.\u001b[39;49m\u001b[43mcorr\u001b[49m\u001b[43m(\u001b[49m\u001b[43m)\u001b[49m)\n",
            "File \u001b[0;32m~/Library/Python/3.9/lib/python/site-packages/pandas/core/frame.py:11049\u001b[0m, in \u001b[0;36mDataFrame.corr\u001b[0;34m(self, method, min_periods, numeric_only)\u001b[0m\n\u001b[1;32m  11047\u001b[0m cols \u001b[38;5;241m=\u001b[39m data\u001b[38;5;241m.\u001b[39mcolumns\n\u001b[1;32m  11048\u001b[0m idx \u001b[38;5;241m=\u001b[39m cols\u001b[38;5;241m.\u001b[39mcopy()\n\u001b[0;32m> 11049\u001b[0m mat \u001b[38;5;241m=\u001b[39m \u001b[43mdata\u001b[49m\u001b[38;5;241;43m.\u001b[39;49m\u001b[43mto_numpy\u001b[49m\u001b[43m(\u001b[49m\u001b[43mdtype\u001b[49m\u001b[38;5;241;43m=\u001b[39;49m\u001b[38;5;28;43mfloat\u001b[39;49m\u001b[43m,\u001b[49m\u001b[43m \u001b[49m\u001b[43mna_value\u001b[49m\u001b[38;5;241;43m=\u001b[39;49m\u001b[43mnp\u001b[49m\u001b[38;5;241;43m.\u001b[39;49m\u001b[43mnan\u001b[49m\u001b[43m,\u001b[49m\u001b[43m \u001b[49m\u001b[43mcopy\u001b[49m\u001b[38;5;241;43m=\u001b[39;49m\u001b[38;5;28;43;01mFalse\u001b[39;49;00m\u001b[43m)\u001b[49m\n\u001b[1;32m  11051\u001b[0m \u001b[38;5;28;01mif\u001b[39;00m method \u001b[38;5;241m==\u001b[39m \u001b[38;5;124m\"\u001b[39m\u001b[38;5;124mpearson\u001b[39m\u001b[38;5;124m\"\u001b[39m:\n\u001b[1;32m  11052\u001b[0m     correl \u001b[38;5;241m=\u001b[39m libalgos\u001b[38;5;241m.\u001b[39mnancorr(mat, minp\u001b[38;5;241m=\u001b[39mmin_periods)\n",
            "File \u001b[0;32m~/Library/Python/3.9/lib/python/site-packages/pandas/core/frame.py:1993\u001b[0m, in \u001b[0;36mDataFrame.to_numpy\u001b[0;34m(self, dtype, copy, na_value)\u001b[0m\n\u001b[1;32m   1991\u001b[0m \u001b[38;5;28;01mif\u001b[39;00m dtype \u001b[38;5;129;01mis\u001b[39;00m \u001b[38;5;129;01mnot\u001b[39;00m \u001b[38;5;28;01mNone\u001b[39;00m:\n\u001b[1;32m   1992\u001b[0m     dtype \u001b[38;5;241m=\u001b[39m np\u001b[38;5;241m.\u001b[39mdtype(dtype)\n\u001b[0;32m-> 1993\u001b[0m result \u001b[38;5;241m=\u001b[39m \u001b[38;5;28;43mself\u001b[39;49m\u001b[38;5;241;43m.\u001b[39;49m\u001b[43m_mgr\u001b[49m\u001b[38;5;241;43m.\u001b[39;49m\u001b[43mas_array\u001b[49m\u001b[43m(\u001b[49m\u001b[43mdtype\u001b[49m\u001b[38;5;241;43m=\u001b[39;49m\u001b[43mdtype\u001b[49m\u001b[43m,\u001b[49m\u001b[43m \u001b[49m\u001b[43mcopy\u001b[49m\u001b[38;5;241;43m=\u001b[39;49m\u001b[43mcopy\u001b[49m\u001b[43m,\u001b[49m\u001b[43m \u001b[49m\u001b[43mna_value\u001b[49m\u001b[38;5;241;43m=\u001b[39;49m\u001b[43mna_value\u001b[49m\u001b[43m)\u001b[49m\n\u001b[1;32m   1994\u001b[0m \u001b[38;5;28;01mif\u001b[39;00m result\u001b[38;5;241m.\u001b[39mdtype \u001b[38;5;129;01mis\u001b[39;00m \u001b[38;5;129;01mnot\u001b[39;00m dtype:\n\u001b[1;32m   1995\u001b[0m     result \u001b[38;5;241m=\u001b[39m np\u001b[38;5;241m.\u001b[39masarray(result, dtype\u001b[38;5;241m=\u001b[39mdtype)\n",
            "File \u001b[0;32m~/Library/Python/3.9/lib/python/site-packages/pandas/core/internals/managers.py:1694\u001b[0m, in \u001b[0;36mBlockManager.as_array\u001b[0;34m(self, dtype, copy, na_value)\u001b[0m\n\u001b[1;32m   1692\u001b[0m         arr\u001b[38;5;241m.\u001b[39mflags\u001b[38;5;241m.\u001b[39mwriteable \u001b[38;5;241m=\u001b[39m \u001b[38;5;28;01mFalse\u001b[39;00m\n\u001b[1;32m   1693\u001b[0m \u001b[38;5;28;01melse\u001b[39;00m:\n\u001b[0;32m-> 1694\u001b[0m     arr \u001b[38;5;241m=\u001b[39m \u001b[38;5;28;43mself\u001b[39;49m\u001b[38;5;241;43m.\u001b[39;49m\u001b[43m_interleave\u001b[49m\u001b[43m(\u001b[49m\u001b[43mdtype\u001b[49m\u001b[38;5;241;43m=\u001b[39;49m\u001b[43mdtype\u001b[49m\u001b[43m,\u001b[49m\u001b[43m \u001b[49m\u001b[43mna_value\u001b[49m\u001b[38;5;241;43m=\u001b[39;49m\u001b[43mna_value\u001b[49m\u001b[43m)\u001b[49m\n\u001b[1;32m   1695\u001b[0m     \u001b[38;5;66;03m# The underlying data was copied within _interleave, so no need\u001b[39;00m\n\u001b[1;32m   1696\u001b[0m     \u001b[38;5;66;03m# to further copy if copy=True or setting na_value\u001b[39;00m\n\u001b[1;32m   1698\u001b[0m \u001b[38;5;28;01mif\u001b[39;00m na_value \u001b[38;5;129;01mis\u001b[39;00m lib\u001b[38;5;241m.\u001b[39mno_default:\n",
            "File \u001b[0;32m~/Library/Python/3.9/lib/python/site-packages/pandas/core/internals/managers.py:1753\u001b[0m, in \u001b[0;36mBlockManager._interleave\u001b[0;34m(self, dtype, na_value)\u001b[0m\n\u001b[1;32m   1751\u001b[0m     \u001b[38;5;28;01melse\u001b[39;00m:\n\u001b[1;32m   1752\u001b[0m         arr \u001b[38;5;241m=\u001b[39m blk\u001b[38;5;241m.\u001b[39mget_values(dtype)\n\u001b[0;32m-> 1753\u001b[0m     \u001b[43mresult\u001b[49m\u001b[43m[\u001b[49m\u001b[43mrl\u001b[49m\u001b[38;5;241;43m.\u001b[39;49m\u001b[43mindexer\u001b[49m\u001b[43m]\u001b[49m \u001b[38;5;241m=\u001b[39m arr\n\u001b[1;32m   1754\u001b[0m     itemmask[rl\u001b[38;5;241m.\u001b[39mindexer] \u001b[38;5;241m=\u001b[39m \u001b[38;5;241m1\u001b[39m\n\u001b[1;32m   1756\u001b[0m \u001b[38;5;28;01mif\u001b[39;00m \u001b[38;5;129;01mnot\u001b[39;00m itemmask\u001b[38;5;241m.\u001b[39mall():\n",
            "\u001b[0;31mValueError\u001b[0m: could not convert string to float: 'Kelly, Mr. James'"
          ]
        }
      ],
      "source": [
        "print(df.corr())"
      ]
    },
    {
      "cell_type": "markdown",
      "metadata": {},
      "source": [
        "corr() ignores columns that are not numeric"
      ]
    },
    {
      "cell_type": "markdown",
      "metadata": {
        "id": "_v_OG5PPLUcL"
      },
      "source": [
        "# Part 2: Working with Case Studies\n",
        "\n",
        "When working on these case studies, **always ensure that your code is properly documented and clearly presented**. Follow these key principles:  \n",
        "\n",
        "### **1. Always Show Your Code**  \n",
        "- Every step of data exploration, cleaning, and analysis should include **visible code outputs**.  \n",
        "- Do not skip showing your process, as transparency is essential for reproducibility.  \n",
        "\n",
        "### **2. Proper Documentation is Necessary**  \n",
        "- Use **comments (`#`) in Python** to explain your code clearly.  \n",
        "- Add **Markdown cells** to describe each step before executing the code.  \n",
        "- Explain key findings in simple language to make the analysis easy to understand.  \n",
        "\n",
        "### **3. Use Readable and Organized Code**  \n",
        "- Follow a **step-by-step approach** to keep the notebook structured.  \n",
        "- Use **proper variable names** and avoid hardcoding values where possible."
      ]
    },
    {
      "cell_type": "markdown",
      "metadata": {
        "id": "WOzxo0NoFZJ5"
      },
      "source": [
        "# **Case Study 1: Iris Flower Classification** 🌸  \n",
        "\n",
        "### **Background**  \n",
        "A botanical research institute wants to develop an automated system that classifies different species of **iris flowers** based on their **sepal and petal measurements**.  The dataset consists of **150 samples**, labeled as **Setosa, Versicolor, or Virginica**.  \n",
        "\n",
        "### **Problem Statement**  \n",
        "Can we use **sepal and petal dimensions** to correctly classify the **species of an iris flower**?  \n",
        "\n",
        "### **Task Description**  \n",
        "\n",
        "#### **1. Data Exploration**  \n",
        "- Load the dataset and display the first few rows.  \n",
        "- Identify any missing or inconsistent values.  \n",
        "\n",
        "#### **2. Data Cleaning**  \n",
        "- Check for missing values and handle them appropriately.  \n",
        "- Convert categorical species labels into a format suitable for analysis.  \n",
        "\n",
        "#### **3. Basic Data Analysis**  \n",
        "- Find the average sepal and petal dimensions for each species.  \n",
        "- Identify correlations between different flower measurements.  \n",
        "\n",
        "#### **4. Visualization**  \n",
        "- Create simple visualizations (e.g., histograms, scatter plots) to understand data distribution.  \n",
        "\n",
        "#### **5. Insights & Interpretation**  \n",
        "- Summarize key findings, such as which features best distinguish flower species.  "
      ]
    },
    {
      "cell_type": "code",
      "execution_count": null,
      "metadata": {
        "id": "VpnqIg63LiAH"
      },
      "outputs": [],
      "source": [
        "#Part 1\n",
        "\n",
        "# Read only first few rows\n",
        "flower = pd.read_csv('iris_dataset.csv')\n",
        "print(flower) \n",
        "\n",
        "\n",
        "#Check for any missing or inconsistent values\n",
        "print(flower.isna())\n",
        "\n",
        "#Part 2\n",
        "flower.fillna(0, inplace = True)\n",
        "\n",
        "#Part 3"
      ]
    },
    {
      "cell_type": "markdown",
      "metadata": {
        "id": "acBPPZF1LN1S"
      },
      "source": [
        "# **Case Study 2: Netflix Content Analysis** 🎬  \n",
        "\n",
        "## **Background**  \n",
        "Netflix is a leading streaming platform with a vast collection of movies and TV shows. The company wants to analyze its **content library** to understand trends in **genres, release years, and regional distribution**.  \n",
        "\n",
        "## **Problem Statement**  \n",
        "How can we use **Netflix’s dataset** to gain insights into content distribution, popular genres, and release trends over time?  \n",
        "\n",
        "## **Task Description**  \n",
        "\n",
        "### **1. Data Exploration**  \n",
        "- Load the dataset and inspect its structure.  \n",
        "- Identify key columns such as title, genre, release year, and country.  \n",
        "\n",
        "### **2. Data Cleaning**  \n",
        "- Check for missing or incorrect values in key columns.  \n",
        "- Remove duplicates and format the date-related data properly.  \n",
        "\n",
        "### **3. Basic Data Analysis**  \n",
        "- Count the number of movies vs. TV shows.  \n",
        "- Identify the most common genres and countries producing content.  \n",
        "- Analyze the number of releases per year to observe trends.  \n",
        "\n",
        "### **4. Insights & Interpretation**  \n",
        "- Summarize key findings, such as trends in Netflix's content production over time.  \n"
      ]
    },
    {
      "cell_type": "code",
      "execution_count": null,
      "metadata": {
        "id": "Vrd7hTehLigX"
      },
      "outputs": [],
      "source": [
        "flix = pd.read_csv('netflix_dataset.csv')\n",
        "df = pd.DataFrame(flix)\n",
        "\n",
        "# print(flix.head(5))\n",
        "# print(flix.info())\n",
        "# print(flix[['title', 'listed_in', 'release_year', 'country']])\n",
        "# print(df.describe())\n",
        "\n",
        "missing_data = df.dropna()\n",
        "duplicated_data = df.duplicated()\n",
        "\n",
        "# print(missing_data.to_string())\n",
        "print(duplicated_data.to_string())\n"
      ]
    }
  ],
  "metadata": {
    "colab": {
      "provenance": []
    },
    "kernelspec": {
      "display_name": "Python 3",
      "name": "python3"
    },
    "language_info": {
      "codemirror_mode": {
        "name": "ipython",
        "version": 3
      },
      "file_extension": ".py",
      "mimetype": "text/x-python",
      "name": "python",
      "nbconvert_exporter": "python",
      "pygments_lexer": "ipython3",
      "version": "3.9.6"
    }
  },
  "nbformat": 4,
  "nbformat_minor": 0
}
