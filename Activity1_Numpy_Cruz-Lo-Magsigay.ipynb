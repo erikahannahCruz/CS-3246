{
  "cells": [
    {
      "cell_type": "markdown",
      "metadata": {
        "id": "A4GF3lV6jm5x"
      },
      "source": [
        "# **Activity 1: NumPy Exercise**\n",
        "\n",
        "**Objective:**\n",
        "\n",
        "Practice NumPy's array manipulation, indexing, and mathematical functions by solving problems related to basic data analysis and matrix operations."
      ]
    },
    {
      "cell_type": "markdown",
      "metadata": {},
      "source": [
        "pip install numpy"
      ]
    },
    {
      "cell_type": "markdown",
      "metadata": {
        "id": "Pq3P9XLbjVU4"
      },
      "source": [
        "## **Part 1**"
      ]
    },
    {
      "cell_type": "markdown",
      "metadata": {
        "id": "VkOXGCuiLGR9"
      },
      "source": [
        "#### 1. Import the numpy package under the name `np`\n"
      ]
    },
    {
      "cell_type": "code",
      "execution_count": 93,
      "metadata": {
        "id": "DhbEnfx8O314"
      },
      "outputs": [],
      "source": [
        "import numpy as np"
      ]
    },
    {
      "cell_type": "markdown",
      "metadata": {
        "id": "ktNjFh4pO-5C"
      },
      "source": [
        "#### 2. Print the numpy version"
      ]
    },
    {
      "cell_type": "code",
      "execution_count": 94,
      "metadata": {
        "id": "7tZfwQhhPQoI"
      },
      "outputs": [
        {
          "name": "stdout",
          "output_type": "stream",
          "text": [
            "Numpy Version:  2.2.2\n"
          ]
        }
      ],
      "source": [
        "print(\"Numpy Version: \", np.__version__)"
      ]
    },
    {
      "cell_type": "markdown",
      "metadata": {
        "id": "D4V99t3oQRAB"
      },
      "source": [
        "#### 3. Create a null array of size 5"
      ]
    },
    {
      "cell_type": "code",
      "execution_count": 95,
      "metadata": {
        "id": "XnL-QmA_QYa2"
      },
      "outputs": [
        {
          "name": "stdout",
          "output_type": "stream",
          "text": [
            "[]\n"
          ]
        }
      ],
      "source": [
        "arr = np.array([], ndmin=5)\n",
        "print(arr)"
      ]
    },
    {
      "cell_type": "markdown",
      "metadata": {
        "id": "x9tAEjPlQcnh"
      },
      "source": [
        "#### 4. Create a null array of size 15 but the seventh value which is 1"
      ]
    },
    {
      "cell_type": "code",
      "execution_count": 96,
      "metadata": {
        "id": "VgwfRV6OQlGk"
      },
      "outputs": [
        {
          "name": "stdout",
          "output_type": "stream",
          "text": [
            "[0 0 0 0 0 0 1 0 0 0 0 0 0 0 0]\n"
          ]
        }
      ],
      "source": [
        "arr = np.array([0,0,0,0,0,0,1,0,0,0,0,0,0,0,0])\n",
        "print(arr)"
      ]
    },
    {
      "cell_type": "markdown",
      "metadata": {
        "id": "a5_Af-hYTi-X"
      },
      "source": [
        "#### 5. Create a 4x4 matrix with values ranging from 0 to 11"
      ]
    },
    {
      "cell_type": "code",
      "execution_count": 97,
      "metadata": {
        "id": "HSlLeK5YQ5Lo"
      },
      "outputs": [
        {
          "name": "stdout",
          "output_type": "stream",
          "text": [
            "[[ 0  1  2  3]\n",
            " [ 4  5  6  7]\n",
            " [ 8  9 10 11]\n",
            " [12 13 14 15]]\n"
          ]
        }
      ],
      "source": [
        "arr = np.array([[0,1,2,3],[4,5,6,7],[8,9,10,11],[12,13,14,15]])\n",
        "\n",
        "print(arr)"
      ]
    },
    {
      "cell_type": "markdown",
      "metadata": {
        "id": "nLJvzwjfVXOL"
      },
      "source": [
        "#### 6. Find indices of non-zero elements from [1,2,4,0,4,0]"
      ]
    },
    {
      "cell_type": "code",
      "execution_count": 98,
      "metadata": {
        "id": "o8vyHuWfVbXu"
      },
      "outputs": [
        {
          "name": "stdout",
          "output_type": "stream",
          "text": [
            "(array([0, 1, 2, 4]),)\n"
          ]
        }
      ],
      "source": [
        "arr = np.array([1,2,4,0,4,0])\n",
        "x = np.where(arr != 0)\n",
        "\n",
        "print(x)"
      ]
    },
    {
      "cell_type": "markdown",
      "metadata": {
        "id": "z6OrgicLV6C-"
      },
      "source": [
        "#### 7. Create a 4x4x4 array with random values"
      ]
    },
    {
      "cell_type": "code",
      "execution_count": 99,
      "metadata": {},
      "outputs": [],
      "source": [
        "from numpy import random"
      ]
    },
    {
      "cell_type": "code",
      "execution_count": 100,
      "metadata": {
        "collapsed": true,
        "id": "MhcNEK55V1UF"
      },
      "outputs": [
        {
          "name": "stdout",
          "output_type": "stream",
          "text": [
            "[[0.76774803 0.15746113 0.63377893 0.27688505]\n",
            " [0.20973043 0.58208887 0.82364034 0.26270235]\n",
            " [0.45395402 0.2213452  0.74549733 0.9417168 ]\n",
            " [0.79297482 0.93896116 0.74917502 0.43032697]]\n"
          ]
        }
      ],
      "source": [
        "x = random.rand(4,4)\n",
        "print(x)"
      ]
    },
    {
      "cell_type": "markdown",
      "metadata": {
        "id": "aLqeru_NWso3"
      },
      "source": [
        "#### 8. Create a 15x15 array with random assigned values and find the min and max values"
      ]
    },
    {
      "cell_type": "code",
      "execution_count": 101,
      "metadata": {
        "collapsed": true,
        "id": "eSpxGZ2GWqDo"
      },
      "outputs": [
        {
          "name": "stdout",
          "output_type": "stream",
          "text": [
            "Random 15x15 Array: \n",
            " [[ 13  31 125 183  95 190 160  55 185  24  83 183 187 100  50]\n",
            " [190 137 190 132  40   8   5 160 193  32  30  12 171  84 108]\n",
            " [ 49  15   3  31 125  37  95  82   2 145  19  39 119 101  72]\n",
            " [ 73  20 107  74 183  48  99   7 184 129 196  84 132 168 129]\n",
            " [186 114 165  96   1  31  19  63 163 136 145  82 193 186  91]\n",
            " [179 118  27 161  99  54  72 172  70  62 163 143 103  23  26]\n",
            " [ 69  56   6 178  69  12 107 156 185 128  21 140  57   4 183]\n",
            " [112  79 102 198  13  47 179  15 104  20  90 163 137 126 177]\n",
            " [150 120  74 181  96 111  69 135   6 195  98 103  77 133 100]\n",
            " [ 31  28  36  69 169 169 128  73  36 121 185 195  70  17 150]\n",
            " [  6  54 148  30 161 118 195 179 138  72 193 168 188  53 169]\n",
            " [ 90  51 108 154 167 173  57 156  16 132 122 109  13  18 152]\n",
            " [ 44  69  67  29  67  52 137 101  83 110 190 141 159  37 148]\n",
            " [147 180 141 182  10  20  75 178 190 181  70  52  78 171 160]\n",
            " [ 28 108  28  56 177 186 186 110 147  83 180 134  59  86  60]]\n"
          ]
        }
      ],
      "source": [
        "x = random.randint(1, 200, size=(15, 15))\n",
        "print(\"Random 15x15 Array: \\n\", x)"
      ]
    },
    {
      "cell_type": "code",
      "execution_count": 102,
      "metadata": {
        "id": "cUFXQqkHW6qB"
      },
      "outputs": [
        {
          "name": "stdout",
          "output_type": "stream",
          "text": [
            "Minimum value of Array:  1 \n",
            "\n",
            "Maximum value of Array:  198 \n",
            "\n"
          ]
        }
      ],
      "source": [
        "min = np.min(x)\n",
        "max = np.max(x)\n",
        "\n",
        "print(\"Minimum value of Array: \", min, '\\n')\n",
        "print(\"Maximum value of Array: \", max, '\\n')"
      ]
    },
    {
      "cell_type": "markdown",
      "metadata": {
        "id": "jIAQPvclbEVr"
      },
      "source": [
        "#### 9. Create a random array of size 25 and find the mean value"
      ]
    },
    {
      "cell_type": "code",
      "execution_count": 103,
      "metadata": {
        "id": "q91Y8GMebPeY"
      },
      "outputs": [
        {
          "name": "stdout",
          "output_type": "stream",
          "text": [
            "Random Array: \n",
            " [91 51 19 91 12 81 66 44 87 95 92 52 68 57  5 21 63 77 43 93 66 98 71 33\n",
            " 10] \n",
            "\n",
            "Mean Value:  59.44 \n",
            "\n"
          ]
        }
      ],
      "source": [
        "x = random.randint(100, size=(25))\n",
        "y = np.mean(x)\n",
        "\n",
        "print(\"Random Array: \\n\", x, '\\n')\n",
        "print(\"Mean Value: \", y, '\\n')"
      ]
    },
    {
      "cell_type": "markdown",
      "metadata": {
        "id": "1z3JFRgAkmNP"
      },
      "source": [
        "#### 10.  Show your codes\n",
        "\n",
        "Given:\n",
        "\n",
        "array 1 = ([2, 4, 9])\\\n",
        "array 2 = ([1, 14, 6])\n",
        "\n",
        "  *Note: Recreate the arrays*"
      ]
    },
    {
      "cell_type": "code",
      "execution_count": 104,
      "metadata": {
        "id": "jiC8LUdknLPN"
      },
      "outputs": [
        {
          "name": "stdout",
          "output_type": "stream",
          "text": [
            "[2, 4, 9]\n",
            "[1, 14, 6]\n"
          ]
        }
      ],
      "source": [
        "array1 = ([2, 4, 9])\n",
        "array2 = ([1, 14, 6])\n",
        "\n",
        "print(array1)\n",
        "print(array2)"
      ]
    },
    {
      "cell_type": "markdown",
      "metadata": {
        "id": "QFPFjpSSmecQ"
      },
      "source": [
        "10.1 What is the result of *a + b*?"
      ]
    },
    {
      "cell_type": "code",
      "execution_count": 105,
      "metadata": {
        "id": "Yqcpj3ccm5La"
      },
      "outputs": [
        {
          "data": {
            "text/plain": [
              "[3, 18, 15]"
            ]
          },
          "execution_count": 105,
          "metadata": {},
          "output_type": "execute_result"
        }
      ],
      "source": [
        "[3, 18, 15]"
      ]
    },
    {
      "cell_type": "markdown",
      "metadata": {
        "id": "t0__U1Bum7k6"
      },
      "source": [
        "10.2 What is the result of *a - b*?"
      ]
    },
    {
      "cell_type": "code",
      "execution_count": 106,
      "metadata": {
        "id": "SmuAcAubnCNO"
      },
      "outputs": [
        {
          "data": {
            "text/plain": [
              "[1, -10, 3]"
            ]
          },
          "execution_count": 106,
          "metadata": {},
          "output_type": "execute_result"
        }
      ],
      "source": [
        "[1, -10, 3]"
      ]
    },
    {
      "cell_type": "markdown",
      "metadata": {
        "id": "5dbiR_Urm5fJ"
      },
      "source": [
        "10.3 What is the result of *a × b*?"
      ]
    },
    {
      "cell_type": "code",
      "execution_count": 107,
      "metadata": {
        "id": "Zpnb_vGqksSF"
      },
      "outputs": [
        {
          "data": {
            "text/plain": [
              "[2, 56, 54]"
            ]
          },
          "execution_count": 107,
          "metadata": {},
          "output_type": "execute_result"
        }
      ],
      "source": [
        "[2, 56, 54]"
      ]
    },
    {
      "cell_type": "markdown",
      "metadata": {
        "id": "jHTozQuZp2WM"
      },
      "source": [
        "10.4 What is the result of *a ÷ b*?"
      ]
    },
    {
      "cell_type": "code",
      "execution_count": 108,
      "metadata": {
        "id": "9Jx0GzTIqArP"
      },
      "outputs": [
        {
          "data": {
            "text/plain": [
              "[2, 0, 2]"
            ]
          },
          "execution_count": 108,
          "metadata": {},
          "output_type": "execute_result"
        }
      ],
      "source": [
        "[2, 0, 2]"
      ]
    },
    {
      "cell_type": "markdown",
      "metadata": {
        "id": "I3FhrIORjZsA"
      },
      "source": [
        "## **Part 2**"
      ]
    },
    {
      "cell_type": "markdown",
      "metadata": {
        "id": "JDa9MTb2wXPi"
      },
      "source": [
        "##### NumPy Array Indexing"
      ]
    },
    {
      "cell_type": "markdown",
      "metadata": {
        "id": "M4rwQgDqrLoo"
      },
      "source": [
        "\n",
        "Given the following matrix:\n",
        "\n",
        "        [[10, 20, 30],\n",
        "        [40, 50, 60],\n",
        "        [70, 80, 90]]\n",
        "\n",
        " 1. Recreate the matrix"
      ]
    },
    {
      "cell_type": "code",
      "execution_count": 109,
      "metadata": {
        "id": "Ra4n8YBQr2RZ"
      },
      "outputs": [
        {
          "name": "stdout",
          "output_type": "stream",
          "text": [
            "[[10 20 30]\n",
            " [40 50 60]\n",
            " [70 80 90]]\n"
          ]
        }
      ],
      "source": [
        "arr = np.array([[10, 20, 30], [40,50,60], [70,80,90]])\n",
        "print(arr)"
      ]
    },
    {
      "cell_type": "markdown",
      "metadata": {
        "id": "br-ZYkK3uo24"
      },
      "source": [
        "1. Write code to extract the element 50."
      ]
    },
    {
      "cell_type": "code",
      "execution_count": 110,
      "metadata": {
        "id": "kI7jzTiYrTep"
      },
      "outputs": [
        {
          "name": "stdout",
          "output_type": "stream",
          "text": [
            "50\n"
          ]
        }
      ],
      "source": [
        "print(arr[1, 1])"
      ]
    },
    {
      "cell_type": "markdown",
      "metadata": {
        "id": "H1OsD655sEX6"
      },
      "source": [
        "2. **Extract a Row**\\\n",
        "\\\n",
        "Using the same array arr, extract the second row as a separate NumPy array."
      ]
    },
    {
      "cell_type": "code",
      "execution_count": 111,
      "metadata": {
        "id": "jf-K5No5sRob"
      },
      "outputs": [
        {
          "name": "stdout",
          "output_type": "stream",
          "text": [
            "2nd Row of Array: \n",
            " [40 50 60]\n"
          ]
        }
      ],
      "source": [
        "arrRow = arr[1]\n",
        "\n",
        "print(\"2nd Row of Array: \\n\", arrRow)"
      ]
    },
    {
      "cell_type": "markdown",
      "metadata": {
        "id": "qk1-NvWjsVC3"
      },
      "source": [
        "3.  **Extract a Column**\\\n",
        "\\\n",
        "Using arr, extract the third column as a separate NumPy array."
      ]
    },
    {
      "cell_type": "code",
      "execution_count": 112,
      "metadata": {
        "id": "d1s1c5q9sgID"
      },
      "outputs": [
        {
          "name": "stdout",
          "output_type": "stream",
          "text": [
            "3rd Column of Array: \n",
            " [30 60 90]\n"
          ]
        }
      ],
      "source": [
        "arrCol = arr[0:, 2]\n",
        "print(\"3rd Column of Array: \\n\", arrCol)"
      ]
    },
    {
      "cell_type": "markdown",
      "metadata": {
        "id": "DIe9pf8nskUZ"
      },
      "source": [
        "4. **Extract a Submatrix**\\\n",
        "\\\n",
        "Extract the following 2×2 submatrix from arr:\\\n",
        "\n",
        "  [[50 60]\\\n",
        " [80 90]]"
      ]
    },
    {
      "cell_type": "code",
      "execution_count": 113,
      "metadata": {
        "id": "37dC5sA3ssZV"
      },
      "outputs": [
        {
          "name": "stdout",
          "output_type": "stream",
          "text": [
            "Submatrix within Array:\n",
            "[50 60]\n",
            "[80 90]\n"
          ]
        }
      ],
      "source": [
        "print(\"Submatrix within Array:\")\n",
        "print(arr[1, 1:])\n",
        "print(arr[2, 1:])"
      ]
    },
    {
      "cell_type": "markdown",
      "metadata": {
        "id": "ABs-32sKwOcg"
      },
      "source": [
        "##### NumPy Array Slicing"
      ]
    },
    {
      "cell_type": "markdown",
      "metadata": {
        "id": "T7kcCxr9uGAO"
      },
      "source": [
        "Given the following matrix:\n",
        "\n",
        "                [ 1,  2,  3,  4],\n",
        "                [ 5,  6,  7,  8],\n",
        "                [ 9, 10, 11, 12]]\n",
        "\n",
        "1. Recreate the matrix"
      ]
    },
    {
      "cell_type": "code",
      "execution_count": 114,
      "metadata": {
        "id": "CvzBw2FpwasA"
      },
      "outputs": [
        {
          "name": "stdout",
          "output_type": "stream",
          "text": [
            "[[ 1  2  3  4]\n",
            " [ 5  6  7  8]\n",
            " [ 9 10 11 12]]\n"
          ]
        }
      ],
      "source": [
        "arr = np.array([[1,2,3,4],[5,6,7,8],[9,10,11,12]])\n",
        "print(arr)"
      ]
    },
    {
      "cell_type": "markdown",
      "metadata": {
        "id": "YaaIsRTVwlof"
      },
      "source": [
        "2. Write code to extract the following 2×2 subarray:\n",
        "\n",
        "        [[ 6  7]\n",
        "        [10 11]]"
      ]
    },
    {
      "cell_type": "code",
      "execution_count": 115,
      "metadata": {
        "id": "PpyFr5wYwuLN"
      },
      "outputs": [
        {
          "name": "stdout",
          "output_type": "stream",
          "text": [
            "[6 7]\n",
            "[10 11]\n"
          ]
        }
      ],
      "source": [
        "print(arr[1, 1:3])\n",
        "print(arr[2, 1:3])"
      ]
    },
    {
      "cell_type": "markdown",
      "metadata": {
        "id": "poinisgbw02m"
      },
      "source": [
        "3. Using the same matrix, write code to extract every other element from the first row (expected output: [1, 3])."
      ]
    },
    {
      "cell_type": "code",
      "execution_count": 116,
      "metadata": {
        "id": "9UyP9S3Ww-wf"
      },
      "outputs": [
        {
          "name": "stdout",
          "output_type": "stream",
          "text": [
            "[1 3]\n"
          ]
        }
      ],
      "source": [
        "print(arr[0, 0:3:2])"
      ]
    },
    {
      "cell_type": "markdown",
      "metadata": {
        "id": "0it7IxPqxTq3"
      },
      "source": [
        "4. Write code to reverse the order of rows in the matrix"
      ]
    },
    {
      "cell_type": "code",
      "execution_count": 117,
      "metadata": {
        "id": "-tqPKhrmxWP7"
      },
      "outputs": [
        {
          "name": "stdout",
          "output_type": "stream",
          "text": [
            "Reversing the row order of the Matrix:\n",
            "[[ 9 10 11 12]\n",
            " [ 5  6  7  8]\n",
            " [ 1  2  3  4]]\n"
          ]
        }
      ],
      "source": [
        "print(\"Reversing the row order of the Matrix:\")\n",
        "print(arr[::-1]) "
      ]
    },
    {
      "cell_type": "markdown",
      "metadata": {
        "id": "C8EWGps7xfYl"
      },
      "source": [
        "5. Write code to extract the last two columns of the matrix."
      ]
    },
    {
      "cell_type": "code",
      "execution_count": 118,
      "metadata": {
        "id": "F7sJw1N1xiKC"
      },
      "outputs": [
        {
          "name": "stdout",
          "output_type": "stream",
          "text": [
            "Last two rows of the Matrix:\n",
            "[[ 3  4]\n",
            " [ 7  8]\n",
            " [11 12]]\n"
          ]
        }
      ],
      "source": [
        "print(\"Last two rows of the Matrix:\")\n",
        "print(arr[0:3, 2:4])"
      ]
    },
    {
      "cell_type": "markdown",
      "metadata": {
        "id": "_8sVIp1q2MYw"
      },
      "source": [
        "##### NumPy Array Joins\n",
        "\n",
        "1. Given the following arrays:\n",
        "\n",
        "        arr1 = ([11, 7, 33])\\\n",
        "        arr2 = ([44, 5, 18])\n",
        "\n",
        "1.1 Recreate the arrays"
      ]
    },
    {
      "cell_type": "code",
      "execution_count": 119,
      "metadata": {
        "id": "-1H2IYDs2hMx"
      },
      "outputs": [
        {
          "name": "stdout",
          "output_type": "stream",
          "text": [
            "[11  7 33]\n",
            "[44  5 18]\n"
          ]
        }
      ],
      "source": [
        "arr1 = np.array([11, 7, 33])\n",
        "arr2 = np.array([44, 5, 18])\n",
        "\n",
        "print(arr1)\n",
        "print(arr2)"
      ]
    },
    {
      "cell_type": "markdown",
      "metadata": {
        "id": "jJ-OxwEZ2ysr"
      },
      "source": [
        "2. Write code to join arr1 and arr2 into a single 1D array."
      ]
    },
    {
      "cell_type": "code",
      "execution_count": 120,
      "metadata": {
        "id": "fyKL42Yv2ewQ"
      },
      "outputs": [
        {
          "name": "stdout",
          "output_type": "stream",
          "text": [
            "[11  7 33 44  5 18]\n"
          ]
        }
      ],
      "source": [
        "arr3 = np.concatenate((arr1, arr2))\n",
        "print(arr3)"
      ]
    },
    {
      "cell_type": "markdown",
      "metadata": {
        "id": "1qiYH-0v25Z2"
      },
      "source": [
        "3. Using arr1 and arr2 from question 1, write code to stack them vertically into a 2D array."
      ]
    },
    {
      "cell_type": "code",
      "execution_count": 121,
      "metadata": {
        "id": "MgR89wkS2_Nw"
      },
      "outputs": [
        {
          "name": "stdout",
          "output_type": "stream",
          "text": [
            "[[11  7 33]\n",
            " [44  5 18]]\n"
          ]
        }
      ],
      "source": [
        "arr4 = np.stack((arr1, arr2), axis=0)\n",
        "print(arr4)"
      ]
    },
    {
      "cell_type": "markdown",
      "metadata": {
        "id": "mLanHC623JpJ"
      },
      "source": [
        "4. Given the 2D arrays:\n",
        "\n",
        "        arr1 = ([[1, 2],\n",
        "               [3, 4]])\n",
        "\n",
        "        arr2 = ([[5, 6],\n",
        "               [7, 8]])\n",
        "\n",
        "4.1 Recreate the arrays"
      ]
    },
    {
      "cell_type": "code",
      "execution_count": 122,
      "metadata": {
        "id": "FDGnOATJ3JE4"
      },
      "outputs": [
        {
          "name": "stdout",
          "output_type": "stream",
          "text": [
            "[[1 2]\n",
            " [3 4]]\n",
            "[[5 6]\n",
            " [7 8]]\n"
          ]
        }
      ],
      "source": [
        "arr1 = np.array([[1, 2], [3, 4]])\n",
        "arr2 = np.array([[5, 6], [7, 8]])\n",
        "\n",
        "print(arr1)\n",
        "print(arr2)"
      ]
    },
    {
      "cell_type": "markdown",
      "metadata": {
        "id": "RyJFIfpo3wiA"
      },
      "source": [
        "5. Write code to join them horizontally (column-wise)."
      ]
    },
    {
      "cell_type": "code",
      "execution_count": 123,
      "metadata": {
        "id": "0eHEY4N63zgT"
      },
      "outputs": [
        {
          "name": "stdout",
          "output_type": "stream",
          "text": [
            "[[1 2 5 6]\n",
            " [3 4 7 8]]\n"
          ]
        }
      ],
      "source": [
        "arr3 = np.concatenate((arr1, arr2), axis=1)\n",
        "print(arr3)"
      ]
    },
    {
      "cell_type": "markdown",
      "metadata": {
        "id": "encqt9P74ZSv"
      },
      "source": [
        "6. Using arr1 and arr2 from question 4, write code to join them vertically (row-wise).\n"
      ]
    },
    {
      "cell_type": "code",
      "execution_count": 124,
      "metadata": {
        "id": "o-UjS1Kn4rS7"
      },
      "outputs": [
        {
          "name": "stdout",
          "output_type": "stream",
          "text": [
            "[[1 2]\n",
            " [3 4]\n",
            " [5 6]\n",
            " [7 8]]\n"
          ]
        }
      ],
      "source": [
        "arr4 = np.vstack((arr1, arr2))\n",
        "print(arr4)"
      ]
    },
    {
      "cell_type": "markdown",
      "metadata": {
        "id": "2l2umcfvjlXq"
      },
      "source": [
        "## **Part 3**"
      ]
    },
    {
      "cell_type": "markdown",
      "metadata": {
        "id": "-rs5StZQlvYg"
      },
      "source": [
        "### Task 1: Array Creation"
      ]
    },
    {
      "cell_type": "markdown",
      "metadata": {
        "id": "PKyTiCLulztg"
      },
      "source": [
        "Create the following arrays:\n",
        "\n",
        "- A 1D array of integers from 10 to 28, with a step of 2.\n",
        "- A 2D array with shape (4, 4) containing random integers between 1 and 50.\n",
        "- A 3D array of shape (2, 3, 4) filled with ones.\n",
        "\n"
      ]
    },
    {
      "cell_type": "code",
      "execution_count": 125,
      "metadata": {
        "collapsed": true,
        "id": "GRWUhpV46cR4"
      },
      "outputs": [
        {
          "name": "stdout",
          "output_type": "stream",
          "text": [
            "Array 1: \n",
            " [10 12 14 16 18 20 22 24 26 28] \n",
            "\n",
            "Array 2: \n",
            " [[42 18 41 38]\n",
            " [ 6  7 20  7]\n",
            " [48 38 17 15]\n",
            " [10 37  6 20]] \n",
            "\n",
            "Array 3: \n",
            " [[[1 1 1 1]\n",
            "  [1 1 1 1]\n",
            "  [1 1 1 1]]\n",
            "\n",
            " [[1 1 1 1]\n",
            "  [1 1 1 1]\n",
            "  [1 1 1 1]]] \n",
            "\n"
          ]
        }
      ],
      "source": [
        "from numpy import random\n",
        "\n",
        "arr1 = np.array([10, 12, 14, 16, 18, 20, 22, 24, 26, 28])\n",
        "arr2 = random.randint(1, 50, size=(4, 4))\n",
        "arr3 = np.full((2, 3, 4), 1, dtype=int)\n",
        "\n",
        "print(\"Array 1: \\n\", arr1, '\\n')\n",
        "print(\"Array 2: \\n\", arr2, '\\n')\n",
        "print(\"Array 3: \\n\", arr3, '\\n')"
      ]
    },
    {
      "cell_type": "markdown",
      "metadata": {
        "id": "yZPELZSx7ggA"
      },
      "source": [
        "### Task 2: Array Transformations\n",
        "Perform the following operations:\n",
        "- Reshape the 1D array to a 2D array with 2 rows.\n",
        "- Extract the last two rows of the 2D array (From Task 1)\n",
        "- Replace all even numbers in the 2D array with -1. (From Task 1)"
      ]
    },
    {
      "cell_type": "code",
      "execution_count": 126,
      "metadata": {
        "id": "5EJrW4nw7sIE"
      },
      "outputs": [
        {
          "name": "stdout",
          "output_type": "stream",
          "text": [
            "Array 2:\n",
            " [[42 18 41 38]\n",
            " [ 6  7 20  7]\n",
            " [48 38 17 15]\n",
            " [10 37  6 20]] \n",
            "\n",
            "New Array 1:\n",
            " [[10 12 14 16 18]\n",
            " [20 22 24 26 28]] \n",
            "\n",
            "Last 2 rows of Array 2:\n",
            " [[48 38 17 15]\n",
            " [10 37  6 20]] \n",
            "\n",
            "All even values replaced with -1 in Array 2: \n",
            " [[-1 -1 41 -1]\n",
            " [-1  7 -1  7]\n",
            " [-1 -1 17 15]\n",
            " [-1 37 -1 -1]]\n"
          ]
        }
      ],
      "source": [
        "print(\"Array 2:\\n\", arr2, '\\n')\n",
        "\n",
        "# Sub task 1\n",
        "newarr1 = arr1.reshape(2, 5)\n",
        "\n",
        "print(\"New Array 1:\\n\", newarr1, '\\n')\n",
        "\n",
        "# Sub task 2\n",
        "newarr2 = np.array([arr2[2], arr2[3] ])\n",
        "print(\"Last 2 rows of Array 2:\\n\", newarr2, '\\n')         \n",
        "         \n",
        "# Sub task 3\n",
        "for x in arr2 : \n",
        "    arr2[arr2 % 2 == 0] = -1 # If the value is even (no remainder),\n",
        "                             # then it will be replaced with -1\n",
        "    \n",
        "print(\"All even values replaced with -1 in Array 2: \\n\", arr2)"
      ]
    },
    {
      "cell_type": "markdown",
      "metadata": {
        "id": "ZkDoNNBjn7nP"
      },
      "source": [
        "### Task 3: Statistical Operations"
      ]
    },
    {
      "cell_type": "markdown",
      "metadata": {
        "id": "87sRNKp0n7nP"
      },
      "source": [
        "Using the 2D array from **Task 1**, compute the following:\n",
        "\n",
        "- The mean, median, and standard deviation of the array. (From Task 1)\n",
        "- The sum of all elements along each row. (From Task 1)\n",
        "- The maximum value and its index in the entire array. (From Task 1)\n"
      ]
    },
    {
      "cell_type": "code",
      "execution_count": 127,
      "metadata": {
        "id": "TEoMfRV68VlZ"
      },
      "outputs": [
        {
          "name": "stdout",
          "output_type": "stream",
          "text": [
            "Array 2:\n",
            " [[12  8  4  4]\n",
            " [25  4 36 10]\n",
            " [ 6  1 25 43]\n",
            " [33 47 11 10]] \n",
            "\n",
            "Mean of Array 2:  17.4375\n",
            "Median of Array 2:  10.5\n",
            "Standard Deviation of Array 2:  14.66700697995334\n",
            "\n",
            "\n",
            "Sum of row 1 :  28\n",
            "Sum of row 2 :  75\n",
            "Sum of row 3 :  75\n",
            "Sum of row 4 :  101\n"
          ]
        }
      ],
      "source": [
        "arr2 = random.randint(1, 50, size=(4, 4))\n",
        "print(\"Array 2:\\n\", arr2, '\\n')\n",
        "\n",
        "# Sub Task 1\n",
        "arrMean = np.mean(arr2)\n",
        "arrMedian = np.median(arr2)\n",
        "arrStD = np.std(arr2)\n",
        "\n",
        "print(\"Mean of Array 2: \", arrMean)\n",
        "print(\"Median of Array 2: \", arrMedian)\n",
        "print(\"Standard Deviation of Array 2: \", arrStD)\n",
        "\n",
        "print('\\n')\n",
        "\n",
        "# Sub Task 2\n",
        "for i, x in enumerate(arr2) : \n",
        "    sum = 0\n",
        "    for y in x :\n",
        "        sum = y + sum\n",
        "    print(\"Sum of row\", i + 1, \": \", sum)\n",
        "\n",
        "# Sub Task 3\n"
      ]
    },
    {
      "cell_type": "markdown",
      "metadata": {
        "id": "T_X0kP3I9eWi"
      },
      "source": [
        "###  Task 4: Advanced Analysis on Large Arrays"
      ]
    },
    {
      "cell_type": "markdown",
      "metadata": {
        "id": "B6uTdro89kE7"
      },
      "source": [
        "- Create a (10, 10) array containing random floating-point numbers between 0 and 1.\n",
        "- Find the minimum value along each column.\n",
        "- Find the indices of the top 5 largest values in the entire array."
      ]
    },
    {
      "cell_type": "code",
      "execution_count": null,
      "metadata": {
        "id": "UwJw1MIn9ovK"
      },
      "outputs": [],
      "source": []
    }
  ],
  "metadata": {
    "colab": {
      "collapsed_sections": [
        "JDa9MTb2wXPi",
        "ABs-32sKwOcg"
      ],
      "provenance": []
    },
    "kernelspec": {
      "display_name": "Python 3",
      "name": "python3"
    },
    "language_info": {
      "codemirror_mode": {
        "name": "ipython",
        "version": 3
      },
      "file_extension": ".py",
      "mimetype": "text/x-python",
      "name": "python",
      "nbconvert_exporter": "python",
      "pygments_lexer": "ipython3",
      "version": "3.13.1"
    }
  },
  "nbformat": 4,
  "nbformat_minor": 0
}
