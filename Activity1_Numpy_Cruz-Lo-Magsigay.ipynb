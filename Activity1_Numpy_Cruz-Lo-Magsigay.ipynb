{
  "cells": [
    {
      "cell_type": "markdown",
      "metadata": {
        "id": "A4GF3lV6jm5x"
      },
      "source": [
        "# **Activity 1: NumPy Exercise**\n",
        "\n",
        "**Objective:**\n",
        "\n",
        "Practice NumPy's array manipulation, indexing, and mathematical functions by solving problems related to basic data analysis and matrix operations."
      ]
    },
    {
      "cell_type": "markdown",
      "metadata": {},
      "source": [
        "pip install numpy"
      ]
    },
    {
      "cell_type": "markdown",
      "metadata": {
        "id": "Pq3P9XLbjVU4"
      },
      "source": [
        "## **Part 1**"
      ]
    },
    {
      "cell_type": "markdown",
      "metadata": {
        "id": "VkOXGCuiLGR9"
      },
      "source": [
        "#### 1. Import the numpy package under the name `np`\n"
      ]
    },
    {
      "cell_type": "code",
      "execution_count": 6,
      "metadata": {
        "id": "DhbEnfx8O314"
      },
      "outputs": [],
      "source": [
        "import numpy as np"
      ]
    },
    {
      "cell_type": "markdown",
      "metadata": {
        "id": "ktNjFh4pO-5C"
      },
      "source": [
        "#### 2. Print the numpy version"
      ]
    },
    {
      "cell_type": "code",
      "execution_count": 7,
      "metadata": {
        "id": "7tZfwQhhPQoI"
      },
      "outputs": [
        {
          "name": "stdout",
          "output_type": "stream",
          "text": [
            "Numpy Version:  2.0.2\n"
          ]
        }
      ],
      "source": [
        "print(\"Numpy Version: \", np.__version__)"
      ]
    },
    {
      "cell_type": "markdown",
      "metadata": {
        "id": "D4V99t3oQRAB"
      },
      "source": [
        "#### 3. Create a null array of size 5"
      ]
    },
    {
      "cell_type": "code",
      "execution_count": 8,
      "metadata": {
        "id": "XnL-QmA_QYa2"
      },
      "outputs": [
        {
          "name": "stdout",
          "output_type": "stream",
          "text": [
            "[]\n"
          ]
        }
      ],
      "source": [
        "arr = np.array([], ndmin=5)\n",
        "print(arr)"
      ]
    },
    {
      "cell_type": "markdown",
      "metadata": {
        "id": "x9tAEjPlQcnh"
      },
      "source": [
        "#### 4. Create a null array of size 15 but the seventh value which is 1"
      ]
    },
    {
      "cell_type": "code",
      "execution_count": 9,
      "metadata": {
        "id": "VgwfRV6OQlGk"
      },
      "outputs": [
        {
          "name": "stdout",
          "output_type": "stream",
          "text": [
            "[0 0 0 0 0 0 1 0 0 0 0 0 0 0 0]\n"
          ]
        }
      ],
      "source": [
        "arr = np.array([0,0,0,0,0,0,1,0,0,0,0,0,0,0,0])\n",
        "print(arr)"
      ]
    },
    {
      "cell_type": "markdown",
      "metadata": {
        "id": "a5_Af-hYTi-X"
      },
      "source": [
        "#### 5. Create a 4x4 matrix with values ranging from 0 to 11"
      ]
    },
    {
      "cell_type": "code",
      "execution_count": 10,
      "metadata": {
        "id": "HSlLeK5YQ5Lo"
      },
      "outputs": [
        {
          "name": "stdout",
          "output_type": "stream",
          "text": [
            "[[ 0  1  2  3]\n",
            " [ 4  5  6  7]\n",
            " [ 8  9 10 11]\n",
            " [12 13 14 15]]\n"
          ]
        }
      ],
      "source": [
        "arr = np.array([[0,1,2,3],[4,5,6,7],[8,9,10,11],[12,13,14,15]])\n",
        "\n",
        "print(arr)"
      ]
    },
    {
      "cell_type": "markdown",
      "metadata": {
        "id": "nLJvzwjfVXOL"
      },
      "source": [
        "#### 6. Find indices of non-zero elements from [1,2,4,0,4,0]"
      ]
    },
    {
      "cell_type": "code",
      "execution_count": 11,
      "metadata": {
        "id": "o8vyHuWfVbXu"
      },
      "outputs": [
        {
          "name": "stdout",
          "output_type": "stream",
          "text": [
            "(array([0, 1, 2, 4]),)\n"
          ]
        }
      ],
      "source": [
        "arr = np.array([1,2,4,0,4,0])\n",
        "x = np.where(arr != 0)\n",
        "\n",
        "print(x)"
      ]
    },
    {
      "cell_type": "markdown",
      "metadata": {
        "id": "z6OrgicLV6C-"
      },
      "source": [
        "#### 7. Create a 4x4x4 array with random values"
      ]
    },
    {
      "cell_type": "code",
      "execution_count": 12,
      "metadata": {},
      "outputs": [],
      "source": [
        "from numpy import random"
      ]
    },
    {
      "cell_type": "code",
      "execution_count": 14,
      "metadata": {
        "collapsed": true,
        "id": "MhcNEK55V1UF"
      },
      "outputs": [
        {
          "name": "stdout",
          "output_type": "stream",
          "text": [
            "[[0.69115326 0.6936752  0.26278502 0.60644327]\n",
            " [0.49825899 0.05197858 0.7946404  0.40490537]\n",
            " [0.4871787  0.34257541 0.93205628 0.56448855]\n",
            " [0.73957804 0.7874088  0.37728177 0.82881298]]\n"
          ]
        }
      ],
      "source": [
        "x = random.rand(4,4)\n",
        "print(x)"
      ]
    },
    {
      "cell_type": "markdown",
      "metadata": {
        "id": "aLqeru_NWso3"
      },
      "source": [
        "#### 8. Create a 15x15 array with random assigned values and find the min and max values"
      ]
    },
    {
      "cell_type": "code",
      "execution_count": 15,
      "metadata": {
        "collapsed": true,
        "id": "eSpxGZ2GWqDo"
      },
      "outputs": [
        {
          "name": "stdout",
          "output_type": "stream",
          "text": [
            "Random 15x15 Array: \n",
            " [[ 38 142 114  84 119 155  79  88 170 150  17 181 105 125  49]\n",
            " [137  32  72 154 170  35 109   6 199 121  59 142 127  53 158]\n",
            " [  9  15  52 185  21 120 109  85 119  41 139 126 129 137  77]\n",
            " [ 10 164  17  44 156 106  70 101 123 190 140  55  40  87 146]\n",
            " [109  81  23 126 174  15  95  20  43  91  14 135 150 163  48]\n",
            " [143  75 167 144 134 194  75  32  71  23  16 125 164 100 195]\n",
            " [199 128 153  22 139 141 107  13   7 177  73  54  72 152  35]\n",
            " [139  50 116  54  43  76 125  58   6  65 113 164  14 158 144]\n",
            " [ 83 100 168  76  20  40 124   1  36  53  39 134 187  12 186]\n",
            " [177 138 158  24  16  88 164   7 170  28   1  55  59 175  52]\n",
            " [ 31  47  93  68  97  14  15  20 117 111 139 179  88  37 184]\n",
            " [117 191 183 161  10   4 110 186  51 123 154 187  73  87  99]\n",
            " [ 51  50 102  15 190 182 171 195  14  94 178 125 128  77 198]\n",
            " [154 126  83 151 197  96  70 117  72 199  17  30  25 141  76]\n",
            " [158 107  11  86  17  13  91 171  68 104 104 128 149 117 123]]\n"
          ]
        }
      ],
      "source": [
        "x = random.randint(1, 200, size=(15, 15))\n",
        "print(\"Random 15x15 Array: \\n\", x)"
      ]
    },
    {
      "cell_type": "code",
      "execution_count": 16,
      "metadata": {
        "id": "cUFXQqkHW6qB"
      },
      "outputs": [
        {
          "name": "stdout",
          "output_type": "stream",
          "text": [
            "Minimum value of Array:  1 \n",
            "\n",
            "Maximum value of Array:  199 \n",
            "\n"
          ]
        }
      ],
      "source": [
        "min = np.min(x)\n",
        "max = np.max(x)\n",
        "\n",
        "print(\"Minimum value of Array: \", min, '\\n')\n",
        "print(\"Maximum value of Array: \", max, '\\n')"
      ]
    },
    {
      "cell_type": "markdown",
      "metadata": {
        "id": "jIAQPvclbEVr"
      },
      "source": [
        "#### 9. Create a random array of size 25 and find the mean value"
      ]
    },
    {
      "cell_type": "code",
      "execution_count": 17,
      "metadata": {
        "id": "q91Y8GMebPeY"
      },
      "outputs": [
        {
          "name": "stdout",
          "output_type": "stream",
          "text": [
            "Random Array: \n",
            " [33 88 41 82 91 27 84 27  1 65  9 42 39 69 74 87 12 39 55 65 97 48 53 71\n",
            " 13] \n",
            "\n",
            "Mean Value:  52.48 \n",
            "\n"
          ]
        }
      ],
      "source": [
        "x = random.randint(100, size=(25))\n",
        "y = np.mean(x)\n",
        "\n",
        "print(\"Random Array: \\n\", x, '\\n')\n",
        "print(\"Mean Value: \", y, '\\n')"
      ]
    },
    {
      "cell_type": "markdown",
      "metadata": {
        "id": "1z3JFRgAkmNP"
      },
      "source": [
        "#### 10.  Show your codes\n",
        "\n",
        "Given:\n",
        "\n",
        "array 1 = ([2, 4, 9])\\\n",
        "array 2 = ([1, 14, 6])\n",
        "\n",
        "  *Note: Recreate the arrays*"
      ]
    },
    {
      "cell_type": "code",
      "execution_count": 23,
      "metadata": {
        "id": "jiC8LUdknLPN"
      },
      "outputs": [
        {
          "name": "stdout",
          "output_type": "stream",
          "text": [
            "[2 4 9]\n",
            "[ 1 14  6]\n"
          ]
        }
      ],
      "source": [
        "array1 = np.array([2, 4, 9])\n",
        "array2 = np.array([1, 14, 6])\n",
        "\n",
        "print(array1)\n",
        "print(array2)"
      ]
    },
    {
      "cell_type": "markdown",
      "metadata": {
        "id": "QFPFjpSSmecQ"
      },
      "source": [
        "10.1 What is the result of *a + b*?"
      ]
    },
    {
      "cell_type": "code",
      "execution_count": 24,
      "metadata": {
        "id": "Yqcpj3ccm5La"
      },
      "outputs": [
        {
          "name": "stdout",
          "output_type": "stream",
          "text": [
            "[ 3 18 15]\n"
          ]
        }
      ],
      "source": [
        "sum = array1 + array2\n",
        "print(sum)"
      ]
    },
    {
      "cell_type": "markdown",
      "metadata": {
        "id": "t0__U1Bum7k6"
      },
      "source": [
        "10.2 What is the result of *a - b*?"
      ]
    },
    {
      "cell_type": "code",
      "execution_count": 25,
      "metadata": {
        "id": "SmuAcAubnCNO"
      },
      "outputs": [
        {
          "name": "stdout",
          "output_type": "stream",
          "text": [
            "[  1 -10   3]\n"
          ]
        }
      ],
      "source": [
        "difference = array1 - array2\n",
        "print(difference)"
      ]
    },
    {
      "cell_type": "markdown",
      "metadata": {
        "id": "5dbiR_Urm5fJ"
      },
      "source": [
        "10.3 What is the result of *a × b*?"
      ]
    },
    {
      "cell_type": "code",
      "execution_count": 27,
      "metadata": {
        "id": "Zpnb_vGqksSF"
      },
      "outputs": [
        {
          "name": "stdout",
          "output_type": "stream",
          "text": [
            "[ 2 56 54]\n"
          ]
        }
      ],
      "source": [
        "product = array1 * array2\n",
        "print(product)"
      ]
    },
    {
      "cell_type": "markdown",
      "metadata": {
        "id": "jHTozQuZp2WM"
      },
      "source": [
        "10.4 What is the result of *a ÷ b*?"
      ]
    },
    {
      "cell_type": "code",
      "execution_count": 28,
      "metadata": {
        "id": "9Jx0GzTIqArP"
      },
      "outputs": [
        {
          "name": "stdout",
          "output_type": "stream",
          "text": [
            "[2.         0.28571429 1.5       ]\n"
          ]
        }
      ],
      "source": [
        "quotient = array1 / array2\n",
        "print(quotient)"
      ]
    },
    {
      "cell_type": "markdown",
      "metadata": {
        "id": "I3FhrIORjZsA"
      },
      "source": [
        "## **Part 2**"
      ]
    },
    {
      "cell_type": "markdown",
      "metadata": {
        "id": "JDa9MTb2wXPi"
      },
      "source": [
        "##### NumPy Array Indexing"
      ]
    },
    {
      "cell_type": "markdown",
      "metadata": {
        "id": "M4rwQgDqrLoo"
      },
      "source": [
        "\n",
        "Given the following matrix:\n",
        "\n",
        "        [[10, 20, 30],\n",
        "        [40, 50, 60],\n",
        "        [70, 80, 90]]\n",
        "\n",
        " 1. Recreate the matrix"
      ]
    },
    {
      "cell_type": "code",
      "execution_count": 29,
      "metadata": {
        "id": "Ra4n8YBQr2RZ"
      },
      "outputs": [
        {
          "name": "stdout",
          "output_type": "stream",
          "text": [
            "[[10 20 30]\n",
            " [40 50 60]\n",
            " [70 80 90]]\n"
          ]
        }
      ],
      "source": [
        "arr = np.array([[10, 20, 30], [40,50,60], [70,80,90]])\n",
        "print(arr)"
      ]
    },
    {
      "cell_type": "markdown",
      "metadata": {
        "id": "br-ZYkK3uo24"
      },
      "source": [
        "1. Write code to extract the element 50."
      ]
    },
    {
      "cell_type": "code",
      "execution_count": 30,
      "metadata": {
        "id": "kI7jzTiYrTep"
      },
      "outputs": [
        {
          "name": "stdout",
          "output_type": "stream",
          "text": [
            "50\n"
          ]
        }
      ],
      "source": [
        "print(arr[1, 1])"
      ]
    },
    {
      "cell_type": "markdown",
      "metadata": {
        "id": "H1OsD655sEX6"
      },
      "source": [
        "2. **Extract a Row**\\\n",
        "\\\n",
        "Using the same array arr, extract the second row as a separate NumPy array."
      ]
    },
    {
      "cell_type": "code",
      "execution_count": 31,
      "metadata": {
        "id": "jf-K5No5sRob"
      },
      "outputs": [
        {
          "name": "stdout",
          "output_type": "stream",
          "text": [
            "2nd Row of Array: \n",
            " [40 50 60]\n"
          ]
        }
      ],
      "source": [
        "arrRow = arr[1]\n",
        "\n",
        "print(\"2nd Row of Array: \\n\", arrRow)"
      ]
    },
    {
      "cell_type": "markdown",
      "metadata": {
        "id": "qk1-NvWjsVC3"
      },
      "source": [
        "3.  **Extract a Column**\\\n",
        "\\\n",
        "Using arr, extract the third column as a separate NumPy array."
      ]
    },
    {
      "cell_type": "code",
      "execution_count": 32,
      "metadata": {
        "id": "d1s1c5q9sgID"
      },
      "outputs": [
        {
          "name": "stdout",
          "output_type": "stream",
          "text": [
            "3rd Column of Array: \n",
            " [30 60 90]\n"
          ]
        }
      ],
      "source": [
        "arrCol = arr[0:, 2]\n",
        "print(\"3rd Column of Array: \\n\", arrCol)"
      ]
    },
    {
      "cell_type": "markdown",
      "metadata": {
        "id": "DIe9pf8nskUZ"
      },
      "source": [
        "4. **Extract a Submatrix**\\\n",
        "\\\n",
        "Extract the following 2×2 submatrix from arr:\\\n",
        "\n",
        "  [[50 60]\\\n",
        " [80 90]]"
      ]
    },
    {
      "cell_type": "code",
      "execution_count": 33,
      "metadata": {
        "id": "37dC5sA3ssZV"
      },
      "outputs": [
        {
          "name": "stdout",
          "output_type": "stream",
          "text": [
            "Submatrix within Array:\n",
            "[50 60]\n",
            "[80 90]\n"
          ]
        }
      ],
      "source": [
        "print(\"Submatrix within Array:\")\n",
        "print(arr[1, 1:])\n",
        "print(arr[2, 1:])"
      ]
    },
    {
      "cell_type": "markdown",
      "metadata": {
        "id": "ABs-32sKwOcg"
      },
      "source": [
        "##### NumPy Array Slicing"
      ]
    },
    {
      "cell_type": "markdown",
      "metadata": {
        "id": "T7kcCxr9uGAO"
      },
      "source": [
        "Given the following matrix:\n",
        "\n",
        "                [ 1,  2,  3,  4],\n",
        "                [ 5,  6,  7,  8],\n",
        "                [ 9, 10, 11, 12]]\n",
        "\n",
        "1. Recreate the matrix"
      ]
    },
    {
      "cell_type": "code",
      "execution_count": 34,
      "metadata": {
        "id": "CvzBw2FpwasA"
      },
      "outputs": [
        {
          "name": "stdout",
          "output_type": "stream",
          "text": [
            "[[ 1  2  3  4]\n",
            " [ 5  6  7  8]\n",
            " [ 9 10 11 12]]\n"
          ]
        }
      ],
      "source": [
        "arr = np.array([[1,2,3,4],[5,6,7,8],[9,10,11,12]])\n",
        "print(arr)"
      ]
    },
    {
      "cell_type": "markdown",
      "metadata": {
        "id": "YaaIsRTVwlof"
      },
      "source": [
        "2. Write code to extract the following 2×2 subarray:\n",
        "\n",
        "        [[ 6  7]\n",
        "        [10 11]]"
      ]
    },
    {
      "cell_type": "code",
      "execution_count": 35,
      "metadata": {
        "id": "PpyFr5wYwuLN"
      },
      "outputs": [
        {
          "name": "stdout",
          "output_type": "stream",
          "text": [
            "[6 7]\n",
            "[10 11]\n"
          ]
        }
      ],
      "source": [
        "print(arr[1, 1:3])\n",
        "print(arr[2, 1:3])"
      ]
    },
    {
      "cell_type": "markdown",
      "metadata": {
        "id": "poinisgbw02m"
      },
      "source": [
        "3. Using the same matrix, write code to extract every other element from the first row (expected output: [1, 3])."
      ]
    },
    {
      "cell_type": "code",
      "execution_count": 36,
      "metadata": {
        "id": "9UyP9S3Ww-wf"
      },
      "outputs": [
        {
          "name": "stdout",
          "output_type": "stream",
          "text": [
            "[1 3]\n"
          ]
        }
      ],
      "source": [
        "print(arr[0, 0:3:2])"
      ]
    },
    {
      "cell_type": "markdown",
      "metadata": {
        "id": "0it7IxPqxTq3"
      },
      "source": [
        "4. Write code to reverse the order of rows in the matrix"
      ]
    },
    {
      "cell_type": "code",
      "execution_count": 37,
      "metadata": {
        "id": "-tqPKhrmxWP7"
      },
      "outputs": [
        {
          "name": "stdout",
          "output_type": "stream",
          "text": [
            "Reversing the row order of the Matrix:\n",
            "[[ 9 10 11 12]\n",
            " [ 5  6  7  8]\n",
            " [ 1  2  3  4]]\n"
          ]
        }
      ],
      "source": [
        "print(\"Reversing the row order of the Matrix:\")\n",
        "print(arr[::-1]) "
      ]
    },
    {
      "cell_type": "markdown",
      "metadata": {
        "id": "C8EWGps7xfYl"
      },
      "source": [
        "5. Write code to extract the last two columns of the matrix."
      ]
    },
    {
      "cell_type": "code",
      "execution_count": 38,
      "metadata": {
        "id": "F7sJw1N1xiKC"
      },
      "outputs": [
        {
          "name": "stdout",
          "output_type": "stream",
          "text": [
            "Last two rows of the Matrix:\n",
            "[[ 3  4]\n",
            " [ 7  8]\n",
            " [11 12]]\n"
          ]
        }
      ],
      "source": [
        "print(\"Last two rows of the Matrix:\")\n",
        "print(arr[0:3, 2:4])"
      ]
    },
    {
      "cell_type": "markdown",
      "metadata": {
        "id": "_8sVIp1q2MYw"
      },
      "source": [
        "##### NumPy Array Joins\n",
        "\n",
        "1. Given the following arrays:\n",
        "\n",
        "        arr1 = ([11, 7, 33])\\\n",
        "        arr2 = ([44, 5, 18])\n",
        "\n",
        "1.1 Recreate the arrays"
      ]
    },
    {
      "cell_type": "code",
      "execution_count": 39,
      "metadata": {
        "id": "-1H2IYDs2hMx"
      },
      "outputs": [
        {
          "name": "stdout",
          "output_type": "stream",
          "text": [
            "[11  7 33]\n",
            "[44  5 18]\n"
          ]
        }
      ],
      "source": [
        "arr1 = np.array([11, 7, 33])\n",
        "arr2 = np.array([44, 5, 18])\n",
        "\n",
        "print(arr1)\n",
        "print(arr2)"
      ]
    },
    {
      "cell_type": "markdown",
      "metadata": {
        "id": "jJ-OxwEZ2ysr"
      },
      "source": [
        "2. Write code to join arr1 and arr2 into a single 1D array."
      ]
    },
    {
      "cell_type": "code",
      "execution_count": 40,
      "metadata": {
        "id": "fyKL42Yv2ewQ"
      },
      "outputs": [
        {
          "name": "stdout",
          "output_type": "stream",
          "text": [
            "[11  7 33 44  5 18]\n"
          ]
        }
      ],
      "source": [
        "arr3 = np.concatenate((arr1, arr2))\n",
        "print(arr3)"
      ]
    },
    {
      "cell_type": "markdown",
      "metadata": {
        "id": "1qiYH-0v25Z2"
      },
      "source": [
        "3. Using arr1 and arr2 from question 1, write code to stack them vertically into a 2D array."
      ]
    },
    {
      "cell_type": "code",
      "execution_count": 41,
      "metadata": {
        "id": "MgR89wkS2_Nw"
      },
      "outputs": [
        {
          "name": "stdout",
          "output_type": "stream",
          "text": [
            "[[11  7 33]\n",
            " [44  5 18]]\n"
          ]
        }
      ],
      "source": [
        "arr4 = np.stack((arr1, arr2), axis=0)\n",
        "print(arr4)"
      ]
    },
    {
      "cell_type": "markdown",
      "metadata": {
        "id": "mLanHC623JpJ"
      },
      "source": [
        "4. Given the 2D arrays:\n",
        "\n",
        "        arr1 = ([[1, 2],\n",
        "               [3, 4]])\n",
        "\n",
        "        arr2 = ([[5, 6],\n",
        "               [7, 8]])\n",
        "\n",
        "4.1 Recreate the arrays"
      ]
    },
    {
      "cell_type": "code",
      "execution_count": 42,
      "metadata": {
        "id": "FDGnOATJ3JE4"
      },
      "outputs": [
        {
          "name": "stdout",
          "output_type": "stream",
          "text": [
            "[[1 2]\n",
            " [3 4]]\n",
            "[[5 6]\n",
            " [7 8]]\n"
          ]
        }
      ],
      "source": [
        "arr1 = np.array([[1, 2], [3, 4]])\n",
        "arr2 = np.array([[5, 6], [7, 8]])\n",
        "\n",
        "print(arr1)\n",
        "print(arr2)"
      ]
    },
    {
      "cell_type": "markdown",
      "metadata": {
        "id": "RyJFIfpo3wiA"
      },
      "source": [
        "5. Write code to join them horizontally (column-wise)."
      ]
    },
    {
      "cell_type": "code",
      "execution_count": 43,
      "metadata": {
        "id": "0eHEY4N63zgT"
      },
      "outputs": [
        {
          "name": "stdout",
          "output_type": "stream",
          "text": [
            "[[1 2 5 6]\n",
            " [3 4 7 8]]\n"
          ]
        }
      ],
      "source": [
        "arr3 = np.concatenate((arr1, arr2), axis=1)\n",
        "print(arr3)"
      ]
    },
    {
      "cell_type": "markdown",
      "metadata": {
        "id": "encqt9P74ZSv"
      },
      "source": [
        "6. Using arr1 and arr2 from question 4, write code to join them vertically (row-wise).\n"
      ]
    },
    {
      "cell_type": "code",
      "execution_count": 44,
      "metadata": {
        "id": "o-UjS1Kn4rS7"
      },
      "outputs": [
        {
          "name": "stdout",
          "output_type": "stream",
          "text": [
            "[[1 2]\n",
            " [3 4]\n",
            " [5 6]\n",
            " [7 8]]\n"
          ]
        }
      ],
      "source": [
        "arr4 = np.vstack((arr1, arr2))\n",
        "print(arr4)"
      ]
    },
    {
      "cell_type": "markdown",
      "metadata": {
        "id": "2l2umcfvjlXq"
      },
      "source": [
        "## **Part 3**"
      ]
    },
    {
      "cell_type": "markdown",
      "metadata": {
        "id": "-rs5StZQlvYg"
      },
      "source": [
        "### Task 1: Array Creation"
      ]
    },
    {
      "cell_type": "markdown",
      "metadata": {
        "id": "PKyTiCLulztg"
      },
      "source": [
        "Create the following arrays:\n",
        "\n",
        "- A 1D array of integers from 10 to 28, with a step of 2.\n",
        "- A 2D array with shape (4, 4) containing random integers between 1 and 50.\n",
        "- A 3D array of shape (2, 3, 4) filled with ones.\n",
        "\n"
      ]
    },
    {
      "cell_type": "code",
      "execution_count": 45,
      "metadata": {
        "collapsed": true,
        "id": "GRWUhpV46cR4"
      },
      "outputs": [
        {
          "name": "stdout",
          "output_type": "stream",
          "text": [
            "Array 1: \n",
            " [10 12 14 16 18 20 22 24 26 28] \n",
            "\n",
            "Array 2: \n",
            " [[17 31 27 17]\n",
            " [12 47 40 38]\n",
            " [12 47 15 42]\n",
            " [48 36  6  2]] \n",
            "\n",
            "Array 3: \n",
            " [[[1 1 1 1]\n",
            "  [1 1 1 1]\n",
            "  [1 1 1 1]]\n",
            "\n",
            " [[1 1 1 1]\n",
            "  [1 1 1 1]\n",
            "  [1 1 1 1]]] \n",
            "\n"
          ]
        }
      ],
      "source": [
        "from numpy import random\n",
        "\n",
        "arr1 = np.array([10, 12, 14, 16, 18, 20, 22, 24, 26, 28])\n",
        "arr2 = random.randint(1, 50, size=(4, 4))\n",
        "arr3 = np.full((2, 3, 4), 1, dtype=int)\n",
        "\n",
        "print(\"Array 1: \\n\", arr1, '\\n')\n",
        "print(\"Array 2: \\n\", arr2, '\\n')\n",
        "print(\"Array 3: \\n\", arr3, '\\n')"
      ]
    },
    {
      "cell_type": "markdown",
      "metadata": {
        "id": "yZPELZSx7ggA"
      },
      "source": [
        "### Task 2: Array Transformations\n",
        "Perform the following operations:\n",
        "- Reshape the 1D array to a 2D array with 2 rows.\n",
        "- Extract the last two rows of the 2D array (From Task 1)\n",
        "- Replace all even numbers in the 2D array with -1. (From Task 1)"
      ]
    },
    {
      "cell_type": "code",
      "execution_count": 46,
      "metadata": {
        "id": "5EJrW4nw7sIE"
      },
      "outputs": [
        {
          "name": "stdout",
          "output_type": "stream",
          "text": [
            "Array 2:\n",
            " [[17 31 27 17]\n",
            " [12 47 40 38]\n",
            " [12 47 15 42]\n",
            " [48 36  6  2]] \n",
            "\n",
            "New Array 1:\n",
            " [[10 12 14 16 18]\n",
            " [20 22 24 26 28]] \n",
            "\n",
            "Last 2 rows of Array 2:\n",
            " [[12 47 15 42]\n",
            " [48 36  6  2]] \n",
            "\n",
            "All even values replaced with -1 in Array 2: \n",
            " [[17 31 27 17]\n",
            " [-1 47 -1 -1]\n",
            " [-1 47 15 -1]\n",
            " [-1 -1 -1 -1]]\n"
          ]
        }
      ],
      "source": [
        "print(\"Array 2:\\n\", arr2, '\\n')\n",
        "\n",
        "# Sub task 1\n",
        "newarr1 = arr1.reshape(2, 5)\n",
        "\n",
        "print(\"New Array 1:\\n\", newarr1, '\\n')\n",
        "\n",
        "# Sub task 2\n",
        "newarr2 = np.array([arr2[2], arr2[3] ])\n",
        "print(\"Last 2 rows of Array 2:\\n\", newarr2, '\\n')         \n",
        "         \n",
        "# Sub task 3\n",
        "for x in arr2 : \n",
        "    arr2[arr2 % 2 == 0] = -1 # If the value is even (no remainder),\n",
        "                             # then it will be replaced with -1\n",
        "    \n",
        "print(\"All even values replaced with -1 in Array 2: \\n\", arr2)"
      ]
    },
    {
      "cell_type": "markdown",
      "metadata": {
        "id": "ZkDoNNBjn7nP"
      },
      "source": [
        "### Task 3: Statistical Operations"
      ]
    },
    {
      "cell_type": "markdown",
      "metadata": {
        "id": "87sRNKp0n7nP"
      },
      "source": [
        "Using the 2D array from **Task 1**, compute the following:\n",
        "\n",
        "- The mean, median, and standard deviation of the array. (From Task 1)\n",
        "- The sum of all elements along each row. (From Task 1)\n",
        "- The maximum value and its index in the entire array. (From Task 1)\n"
      ]
    },
    {
      "cell_type": "code",
      "execution_count": 51,
      "metadata": {
        "id": "TEoMfRV68VlZ"
      },
      "outputs": [
        {
          "name": "stdout",
          "output_type": "stream",
          "text": [
            "Array 2:\n",
            " [[ 4 36 47 28]\n",
            " [40  1 44  4]\n",
            " [34 40 44 18]\n",
            " [25 46  9 47]] \n",
            "\n",
            "Mean of Array 2:  29.1875\n",
            "Median of Array 2:  35.0\n",
            "Standard Deviation of Array 2:  16.34479561664813\n",
            "\n",
            "\n",
            "Sum of row 1 :  115\n",
            "Sum of row 2 :  89\n",
            "Sum of row 3 :  136\n",
            "Sum of row 4 :  127\n",
            "\n",
            "Maximum value of Array 2:  47\n",
            "The index of the maximum value is:  (array([0, 3]), array([2, 3]))\n"
          ]
        }
      ],
      "source": [
        "arr2 = random.randint(1, 50, size=(4, 4))\n",
        "print(\"Array 2:\\n\", arr2, '\\n')\n",
        "\n",
        "# Sub Task 1\n",
        "arrMean = np.mean(arr2)\n",
        "arrMedian = np.median(arr2)\n",
        "arrStD = np.std(arr2)\n",
        "\n",
        "print(\"Mean of Array 2: \", arrMean)\n",
        "print(\"Median of Array 2: \", arrMedian)\n",
        "print(\"Standard Deviation of Array 2: \", arrStD)\n",
        "\n",
        "print('\\n')\n",
        "\n",
        "# Sub Task 2\n",
        "for i, x in enumerate(arr2) : \n",
        "    sum = 0\n",
        "    for y in x :\n",
        "        sum = y + sum\n",
        "    print(\"Sum of row\", i + 1, \": \", sum)\n",
        "\n",
        "# Sub Task 3\n",
        "max = np.max(arr2)\n",
        "\n",
        "print(\"\\nMaximum value of Array 2: \", max)\n",
        "print(\"The index of the maximum value is: \", np.where(arr2 == max))"
      ]
    },
    {
      "cell_type": "markdown",
      "metadata": {
        "id": "T_X0kP3I9eWi"
      },
      "source": [
        "###  Task 4: Advanced Analysis on Large Arrays"
      ]
    },
    {
      "cell_type": "markdown",
      "metadata": {
        "id": "B6uTdro89kE7"
      },
      "source": [
        "- Create a (10, 10) array containing random floating-point numbers between 0 and 1.\n",
        "- Find the minimum value along each column.\n",
        "- Find the indices of the top 5 largest values in the entire array."
      ]
    },
    {
      "cell_type": "code",
      "execution_count": 49,
      "metadata": {
        "id": "UwJw1MIn9ovK"
      },
      "outputs": [
        {
          "name": "stdout",
          "output_type": "stream",
          "text": [
            "[[0.13848691 0.77252801 0.85059351 0.15946946 0.66771005 0.52521836\n",
            "  0.58708268 0.51406143 0.06722249 0.8636541 ]\n",
            " [0.14310555 0.79823088 0.64564918 0.13955607 0.15142305 0.63883398\n",
            "  0.29866802 0.86497262 0.39582823 0.09818745]\n",
            " [0.63775118 0.76329811 0.12912596 0.51033575 0.76307064 0.64640624\n",
            "  0.43752421 0.33390922 0.34646728 0.31475443]\n",
            " [0.41021417 0.35524031 0.90435607 0.55258328 0.17202358 0.95143318\n",
            "  0.88386348 0.21485863 0.65277969 0.28921827]\n",
            " [0.6392908  0.85119075 0.1750707  0.14439441 0.93836552 0.79344269\n",
            "  0.26246153 0.88343748 0.34318837 0.47679775]\n",
            " [0.82079721 0.36401753 0.58605365 0.31361704 0.19176748 0.99082389\n",
            "  0.73993282 0.51820771 0.23813225 0.3999404 ]\n",
            " [0.75281017 0.16768242 0.82977022 0.58459514 0.8143592  0.33252786\n",
            "  0.57671687 0.92837918 0.39096984 0.67126219]\n",
            " [0.87329063 0.72854746 0.45750434 0.99595055 0.67455231 0.42297182\n",
            "  0.07517514 0.82178725 0.72070071 0.13073778]\n",
            " [0.41289078 0.27876169 0.1366187  0.30313795 0.1888649  0.68544967\n",
            "  0.37931163 0.69768762 0.86957373 0.58239086]\n",
            " [0.17214129 0.99947023 0.98287768 0.54656119 0.54801806 0.93531815\n",
            "  0.8326857  0.08108252 0.11657653 0.8521062 ]]\n",
            "\n",
            "\n",
            "Minimum value along each column:  [0.13848691 0.16768242 0.12912596 0.13955607 0.15142305 0.33252786\n",
            " 0.07517514 0.08108252 0.06722249 0.09818745]\n",
            "\n",
            "\n",
            "Top 5 Maximum value of the entire array:  [0.99947023 0.99595055 0.99082389 0.98287768 0.95143318]\n"
          ]
        }
      ],
      "source": [
        "#Create a (10,10) array containing random floating-point numbers between 0 and 1\n",
        "arr = np.random.rand(10, 10)\n",
        "print(arr)\n",
        "\n",
        "print('\\n')\n",
        "\n",
        "#Find the minimum and maximum value along each column\n",
        "minvalue= np.min(arr, axis=0)\n",
        "print(\"Minimum value along each column: \", minvalue)\n",
        "\n",
        "\n",
        "print('\\n')\n",
        "\n",
        "#Find the indices of the top 5 largest values in the entire array\n",
        "maxvalue=np.max(arr)\n",
        "#convert it to 10x10 by 1D to sort the array\n",
        "flattenarr=arr.flatten()\n",
        "#sort the array\n",
        "sort=np.argsort(flattenarr)\n",
        "#find the top 5 values\n",
        "top5=sort[-5:]\n",
        "top5values=flattenarr[top5]\n",
        "top5sort=np.sort(top5values)[::-1]\n",
        "print(\"Top 5 Maximum value of the entire array: \", top5sort)"
      ]
    }
  ],
  "metadata": {
    "colab": {
      "collapsed_sections": [
        "JDa9MTb2wXPi",
        "ABs-32sKwOcg"
      ],
      "provenance": []
    },
    "kernelspec": {
      "display_name": "Python 3",
      "name": "python3"
    },
    "language_info": {
      "codemirror_mode": {
        "name": "ipython",
        "version": 3
      },
      "file_extension": ".py",
      "mimetype": "text/x-python",
      "name": "python",
      "nbconvert_exporter": "python",
      "pygments_lexer": "ipython3",
      "version": "3.9.6"
    }
  },
  "nbformat": 4,
  "nbformat_minor": 0
}
